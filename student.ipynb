{
 "cells": [
  {
   "cell_type": "markdown",
   "metadata": {},
   "source": [
    "* Student name: Steve Newman\n",
    "* Student pace: part time \n",
    "* Scheduled project review date/time: Mon. May 11 2pm EST\n",
    "* Instructor name: James Irving PhD\n",
    "* Blog post URL:https://medium.com/@stevenewmanphotography/classification-blog-e73e72cb8450"
   ]
  },
  {
   "cell_type": "code",
   "execution_count": null,
   "metadata": {},
   "outputs": [],
   "source": [
    "from IPython.display import clear_output\n",
    "!pip install -U fsds_100719\n",
    "clear_output()\n",
    "from fsds_100719.imports import *\n",
    "\n",
    "from sklearn.model_selection import train_test_split\n",
    "\n",
    "import sklearn.metrics as metrics\n",
    "import tzlocal\n",
    "import datetime as dt\n",
    "\n",
    "from sklearn.tree import DecisionTreeClassifier\n",
    "from sklearn.model_selection import GridSearchCV\n",
    "from sklearn.ensemble import RandomForestClassifier\n",
    "from xgboost import XGBRFClassifier,XGBClassifier\n",
    "\n",
    "import warnings\n",
    "warnings.filterwarnings('ignore')\n",
    "\n",
    "plt.style.use('ggplot')\n"
   ]
  },
  {
   "cell_type": "markdown",
   "metadata": {},
   "source": [
    "# Defintions"
   ]
  },
  {
   "cell_type": "markdown",
   "metadata": {},
   "source": [
    "The data used in this project is from an anonymous organisation’s social media ad campaign. The data file can be downloaded from here. The file conversion_data.csv contains 1143 observations in 11 variables. Below are the descriptions of the variables.\n",
    "\n",
    "1.) ad_id: an unique ID for each ad.\n",
    "\n",
    "2.) xyzcampaignid: an ID associated with each ad campaign of XYZ company.\n",
    "\n",
    "3.) fbcampaignid: an ID associated with how Facebook tracks each campaign.\n",
    "\n",
    "4.) age: age of the person to whom the ad is shown.\n",
    "\n",
    "5.) gender: gender of the person to whim the add is shown\n",
    "\n",
    "6.) interest: a code specifying the category to which the person’s interest belongs (interests are as mentioned in the person’s Facebook public profile).\n",
    "\n",
    "7.) Impressions: the number of times the ad was shown.\n",
    "\n",
    "8.) Clicks: number of clicks on for that ad.\n",
    "\n",
    "9.) Spent: Amount paid by company xyz to Facebook, to show that ad.\n",
    "\n",
    "10.) Total conversion: Total number of people who enquired about the product after seeing the ad.\n",
    "\n",
    "11.) Approved conversion: Total number of people who bought the product after seeing the ad."
   ]
  },
  {
   "cell_type": "markdown",
   "metadata": {},
   "source": [
    "# Explored Data Set"
   ]
  },
  {
   "cell_type": "code",
   "execution_count": 82,
   "metadata": {},
   "outputs": [
    {
     "data": {
      "text/html": [
       "<div>\n",
       "<style scoped>\n",
       "    .dataframe tbody tr th:only-of-type {\n",
       "        vertical-align: middle;\n",
       "    }\n",
       "\n",
       "    .dataframe tbody tr th {\n",
       "        vertical-align: top;\n",
       "    }\n",
       "\n",
       "    .dataframe thead th {\n",
       "        text-align: right;\n",
       "    }\n",
       "</style>\n",
       "<table border=\"1\" class=\"dataframe\">\n",
       "  <thead>\n",
       "    <tr style=\"text-align: right;\">\n",
       "      <th></th>\n",
       "      <th>ad_id</th>\n",
       "      <th>xyz_campaign_id</th>\n",
       "      <th>fb_campaign_id</th>\n",
       "      <th>age</th>\n",
       "      <th>gender</th>\n",
       "      <th>interest</th>\n",
       "      <th>Impressions</th>\n",
       "      <th>Clicks</th>\n",
       "      <th>Spent</th>\n",
       "      <th>Total_Conversion</th>\n",
       "      <th>Approved_Conversion</th>\n",
       "    </tr>\n",
       "  </thead>\n",
       "  <tbody>\n",
       "    <tr>\n",
       "      <td>0</td>\n",
       "      <td>708746</td>\n",
       "      <td>916</td>\n",
       "      <td>103916</td>\n",
       "      <td>30-34</td>\n",
       "      <td>M</td>\n",
       "      <td>15</td>\n",
       "      <td>7350</td>\n",
       "      <td>1</td>\n",
       "      <td>1.430000</td>\n",
       "      <td>2</td>\n",
       "      <td>1</td>\n",
       "    </tr>\n",
       "    <tr>\n",
       "      <td>1</td>\n",
       "      <td>708749</td>\n",
       "      <td>916</td>\n",
       "      <td>103917</td>\n",
       "      <td>30-34</td>\n",
       "      <td>M</td>\n",
       "      <td>16</td>\n",
       "      <td>17861</td>\n",
       "      <td>2</td>\n",
       "      <td>1.820000</td>\n",
       "      <td>2</td>\n",
       "      <td>0</td>\n",
       "    </tr>\n",
       "    <tr>\n",
       "      <td>2</td>\n",
       "      <td>708771</td>\n",
       "      <td>916</td>\n",
       "      <td>103920</td>\n",
       "      <td>30-34</td>\n",
       "      <td>M</td>\n",
       "      <td>20</td>\n",
       "      <td>693</td>\n",
       "      <td>0</td>\n",
       "      <td>0.000000</td>\n",
       "      <td>1</td>\n",
       "      <td>0</td>\n",
       "    </tr>\n",
       "    <tr>\n",
       "      <td>3</td>\n",
       "      <td>708815</td>\n",
       "      <td>916</td>\n",
       "      <td>103928</td>\n",
       "      <td>30-34</td>\n",
       "      <td>M</td>\n",
       "      <td>28</td>\n",
       "      <td>4259</td>\n",
       "      <td>1</td>\n",
       "      <td>1.250000</td>\n",
       "      <td>1</td>\n",
       "      <td>0</td>\n",
       "    </tr>\n",
       "    <tr>\n",
       "      <td>4</td>\n",
       "      <td>708818</td>\n",
       "      <td>916</td>\n",
       "      <td>103928</td>\n",
       "      <td>30-34</td>\n",
       "      <td>M</td>\n",
       "      <td>28</td>\n",
       "      <td>4133</td>\n",
       "      <td>1</td>\n",
       "      <td>1.290000</td>\n",
       "      <td>1</td>\n",
       "      <td>1</td>\n",
       "    </tr>\n",
       "    <tr>\n",
       "      <td>...</td>\n",
       "      <td>...</td>\n",
       "      <td>...</td>\n",
       "      <td>...</td>\n",
       "      <td>...</td>\n",
       "      <td>...</td>\n",
       "      <td>...</td>\n",
       "      <td>...</td>\n",
       "      <td>...</td>\n",
       "      <td>...</td>\n",
       "      <td>...</td>\n",
       "      <td>...</td>\n",
       "    </tr>\n",
       "    <tr>\n",
       "      <td>1138</td>\n",
       "      <td>1314410</td>\n",
       "      <td>1178</td>\n",
       "      <td>179977</td>\n",
       "      <td>45-49</td>\n",
       "      <td>F</td>\n",
       "      <td>109</td>\n",
       "      <td>1129773</td>\n",
       "      <td>252</td>\n",
       "      <td>358.189997</td>\n",
       "      <td>13</td>\n",
       "      <td>2</td>\n",
       "    </tr>\n",
       "    <tr>\n",
       "      <td>1139</td>\n",
       "      <td>1314411</td>\n",
       "      <td>1178</td>\n",
       "      <td>179978</td>\n",
       "      <td>45-49</td>\n",
       "      <td>F</td>\n",
       "      <td>110</td>\n",
       "      <td>637549</td>\n",
       "      <td>120</td>\n",
       "      <td>173.880003</td>\n",
       "      <td>3</td>\n",
       "      <td>0</td>\n",
       "    </tr>\n",
       "    <tr>\n",
       "      <td>1140</td>\n",
       "      <td>1314412</td>\n",
       "      <td>1178</td>\n",
       "      <td>179979</td>\n",
       "      <td>45-49</td>\n",
       "      <td>F</td>\n",
       "      <td>111</td>\n",
       "      <td>151531</td>\n",
       "      <td>28</td>\n",
       "      <td>40.289999</td>\n",
       "      <td>2</td>\n",
       "      <td>0</td>\n",
       "    </tr>\n",
       "    <tr>\n",
       "      <td>1141</td>\n",
       "      <td>1314414</td>\n",
       "      <td>1178</td>\n",
       "      <td>179981</td>\n",
       "      <td>45-49</td>\n",
       "      <td>F</td>\n",
       "      <td>113</td>\n",
       "      <td>790253</td>\n",
       "      <td>135</td>\n",
       "      <td>198.710000</td>\n",
       "      <td>8</td>\n",
       "      <td>2</td>\n",
       "    </tr>\n",
       "    <tr>\n",
       "      <td>1142</td>\n",
       "      <td>1314415</td>\n",
       "      <td>1178</td>\n",
       "      <td>179982</td>\n",
       "      <td>45-49</td>\n",
       "      <td>F</td>\n",
       "      <td>114</td>\n",
       "      <td>513161</td>\n",
       "      <td>114</td>\n",
       "      <td>165.609999</td>\n",
       "      <td>5</td>\n",
       "      <td>2</td>\n",
       "    </tr>\n",
       "  </tbody>\n",
       "</table>\n",
       "<p>1143 rows × 11 columns</p>\n",
       "</div>"
      ],
      "text/plain": [
       "        ad_id  xyz_campaign_id  fb_campaign_id    age gender  interest  \\\n",
       "0      708746              916          103916  30-34      M        15   \n",
       "1      708749              916          103917  30-34      M        16   \n",
       "2      708771              916          103920  30-34      M        20   \n",
       "3      708815              916          103928  30-34      M        28   \n",
       "4      708818              916          103928  30-34      M        28   \n",
       "...       ...              ...             ...    ...    ...       ...   \n",
       "1138  1314410             1178          179977  45-49      F       109   \n",
       "1139  1314411             1178          179978  45-49      F       110   \n",
       "1140  1314412             1178          179979  45-49      F       111   \n",
       "1141  1314414             1178          179981  45-49      F       113   \n",
       "1142  1314415             1178          179982  45-49      F       114   \n",
       "\n",
       "      Impressions  Clicks       Spent  Total_Conversion  Approved_Conversion  \n",
       "0            7350       1    1.430000                 2                    1  \n",
       "1           17861       2    1.820000                 2                    0  \n",
       "2             693       0    0.000000                 1                    0  \n",
       "3            4259       1    1.250000                 1                    0  \n",
       "4            4133       1    1.290000                 1                    1  \n",
       "...           ...     ...         ...               ...                  ...  \n",
       "1138      1129773     252  358.189997                13                    2  \n",
       "1139       637549     120  173.880003                 3                    0  \n",
       "1140       151531      28   40.289999                 2                    0  \n",
       "1141       790253     135  198.710000                 8                    2  \n",
       "1142       513161     114  165.609999                 5                    2  \n",
       "\n",
       "[1143 rows x 11 columns]"
      ]
     },
     "execution_count": 82,
     "metadata": {},
     "output_type": "execute_result"
    }
   ],
   "source": [
    "df = pd.read_csv('KAG_conversion_data.csv')\n",
    "df"
   ]
  },
  {
   "cell_type": "code",
   "execution_count": 83,
   "metadata": {},
   "outputs": [
    {
     "data": {
      "text/plain": [
       "ad_id                  0\n",
       "xyz_campaign_id        0\n",
       "fb_campaign_id         0\n",
       "age                    0\n",
       "gender                 0\n",
       "interest               0\n",
       "Impressions            0\n",
       "Clicks                 0\n",
       "Spent                  0\n",
       "Total_Conversion       0\n",
       "Approved_Conversion    0\n",
       "dtype: int64"
      ]
     },
     "execution_count": 83,
     "metadata": {},
     "output_type": "execute_result"
    }
   ],
   "source": [
    "# No missing values.\n",
    "df.isna().sum()"
   ]
  },
  {
   "cell_type": "code",
   "execution_count": 84,
   "metadata": {},
   "outputs": [
    {
     "data": {
      "text/plain": [
       "ad_id                    int64\n",
       "xyz_campaign_id          int64\n",
       "fb_campaign_id           int64\n",
       "age                     object\n",
       "gender                  object\n",
       "interest                 int64\n",
       "Impressions              int64\n",
       "Clicks                   int64\n",
       "Spent                  float64\n",
       "Total_Conversion         int64\n",
       "Approved_Conversion      int64\n",
       "dtype: object"
      ]
     },
     "execution_count": 84,
     "metadata": {},
     "output_type": "execute_result"
    }
   ],
   "source": [
    "# Will need to convert some columns to categories.\n",
    "df.dtypes"
   ]
  },
  {
   "cell_type": "code",
   "execution_count": 85,
   "metadata": {},
   "outputs": [
    {
     "data": {
      "text/plain": [
       "ad_id                  1143\n",
       "xyz_campaign_id           3\n",
       "fb_campaign_id          691\n",
       "age                       4\n",
       "gender                    2\n",
       "interest                 40\n",
       "Impressions            1130\n",
       "Clicks                  183\n",
       "Spent                   869\n",
       "Total_Conversion         32\n",
       "Approved_Conversion      16\n",
       "dtype: int64"
      ]
     },
     "execution_count": 85,
     "metadata": {},
     "output_type": "execute_result"
    }
   ],
   "source": [
    "# ad_id needs to be dropped due to number of unique values.\n",
    "df.nunique()"
   ]
  },
  {
   "cell_type": "markdown",
   "metadata": {},
   "source": [
    "# Prepare Data for Modeling"
   ]
  },
  {
   "cell_type": "code",
   "execution_count": 86,
   "metadata": {},
   "outputs": [],
   "source": [
    "df= df.drop(columns=['ad_id'])"
   ]
  },
  {
   "cell_type": "code",
   "execution_count": 87,
   "metadata": {},
   "outputs": [
    {
     "data": {
      "text/plain": [
       "xyz_campaign_id        0.284968\n",
       "fb_campaign_id         0.257658\n",
       "interest               0.058353\n",
       "Impressions            0.684249\n",
       "Clicks                 0.559526\n",
       "Spent                  0.593178\n",
       "Total_Conversion       0.864034\n",
       "Approved_Conversion    1.000000\n",
       "Name: Approved_Conversion, dtype: float64"
      ]
     },
     "execution_count": 87,
     "metadata": {},
     "output_type": "execute_result"
    }
   ],
   "source": [
    "# Check if 'Approved_Conversion' correlates with the target.\n",
    "df.corr().loc['Approved_Conversion']"
   ]
  },
  {
   "cell_type": "code",
   "execution_count": 88,
   "metadata": {},
   "outputs": [
    {
     "data": {
      "text/plain": [
       "1    463\n",
       "2    218\n",
       "3    153\n",
       "4    148\n",
       "5    125\n",
       "6     36\n",
       "Name: fb_counts, dtype: int64"
      ]
     },
     "execution_count": 88,
     "metadata": {},
     "output_type": "execute_result"
    }
   ],
   "source": [
    "# Convert 'fb_campaign_id' to value count number due to approximately 700 unique values.\n",
    "campaign_id = dict(df['fb_campaign_id'].value_counts())\n",
    "df['fb_counts'] = df['fb_campaign_id'].map(campaign_id)\n",
    "df['fb_counts'].value_counts(dropna=False)"
   ]
  },
  {
   "cell_type": "code",
   "execution_count": 89,
   "metadata": {},
   "outputs": [
    {
     "data": {
      "text/plain": [
       "{'30-34': 0, '35-39': 1, '40-44': 2, '45-49': 3}"
      ]
     },
     "execution_count": 89,
     "metadata": {},
     "output_type": "execute_result"
    }
   ],
   "source": [
    "# Encoding age groups as ordinal\n",
    "age_ranges = ('30-34','35-39', '40-44','45-49')\n",
    "age_codes = (0,1,2,3) \n",
    "# Zipping into Dictionary to Map onto Column\n",
    "age_map = dict(zip(age_ranges,age_codes))\n",
    "age_map"
   ]
  },
  {
   "cell_type": "code",
   "execution_count": 90,
   "metadata": {},
   "outputs": [
    {
     "data": {
      "text/plain": [
       "0    426\n",
       "3    259\n",
       "1    248\n",
       "2    210\n",
       "Name: age_number, dtype: int64"
      ]
     },
     "execution_count": 90,
     "metadata": {},
     "output_type": "execute_result"
    }
   ],
   "source": [
    "# Applying age_map to 'age_number' column.\n",
    "df['age_number'] = df['age'].map(age_map)\n",
    "df['age_number'].value_counts(dropna=False)"
   ]
  },
  {
   "cell_type": "code",
   "execution_count": 91,
   "metadata": {},
   "outputs": [
    {
     "data": {
      "text/html": [
       "<div>\n",
       "<style scoped>\n",
       "    .dataframe tbody tr th:only-of-type {\n",
       "        vertical-align: middle;\n",
       "    }\n",
       "\n",
       "    .dataframe tbody tr th {\n",
       "        vertical-align: top;\n",
       "    }\n",
       "\n",
       "    .dataframe thead th {\n",
       "        text-align: right;\n",
       "    }\n",
       "</style>\n",
       "<table border=\"1\" class=\"dataframe\">\n",
       "  <thead>\n",
       "    <tr style=\"text-align: right;\">\n",
       "      <th></th>\n",
       "      <th>xyz_campaign_id</th>\n",
       "      <th>fb_campaign_id</th>\n",
       "      <th>age</th>\n",
       "      <th>gender</th>\n",
       "      <th>interest</th>\n",
       "      <th>Impressions</th>\n",
       "      <th>Clicks</th>\n",
       "      <th>Spent</th>\n",
       "      <th>Total_Conversion</th>\n",
       "      <th>Approved_Conversion</th>\n",
       "      <th>fb_counts</th>\n",
       "      <th>age_number</th>\n",
       "    </tr>\n",
       "  </thead>\n",
       "  <tbody>\n",
       "    <tr>\n",
       "      <td>0</td>\n",
       "      <td>916</td>\n",
       "      <td>103916</td>\n",
       "      <td>30-34</td>\n",
       "      <td>M</td>\n",
       "      <td>15</td>\n",
       "      <td>7350</td>\n",
       "      <td>1</td>\n",
       "      <td>1.430000</td>\n",
       "      <td>2</td>\n",
       "      <td>1</td>\n",
       "      <td>1</td>\n",
       "      <td>0</td>\n",
       "    </tr>\n",
       "    <tr>\n",
       "      <td>1</td>\n",
       "      <td>916</td>\n",
       "      <td>103917</td>\n",
       "      <td>30-34</td>\n",
       "      <td>M</td>\n",
       "      <td>16</td>\n",
       "      <td>17861</td>\n",
       "      <td>2</td>\n",
       "      <td>1.820000</td>\n",
       "      <td>2</td>\n",
       "      <td>0</td>\n",
       "      <td>1</td>\n",
       "      <td>0</td>\n",
       "    </tr>\n",
       "    <tr>\n",
       "      <td>2</td>\n",
       "      <td>916</td>\n",
       "      <td>103920</td>\n",
       "      <td>30-34</td>\n",
       "      <td>M</td>\n",
       "      <td>20</td>\n",
       "      <td>693</td>\n",
       "      <td>0</td>\n",
       "      <td>0.000000</td>\n",
       "      <td>1</td>\n",
       "      <td>0</td>\n",
       "      <td>1</td>\n",
       "      <td>0</td>\n",
       "    </tr>\n",
       "    <tr>\n",
       "      <td>3</td>\n",
       "      <td>916</td>\n",
       "      <td>103928</td>\n",
       "      <td>30-34</td>\n",
       "      <td>M</td>\n",
       "      <td>28</td>\n",
       "      <td>4259</td>\n",
       "      <td>1</td>\n",
       "      <td>1.250000</td>\n",
       "      <td>1</td>\n",
       "      <td>0</td>\n",
       "      <td>2</td>\n",
       "      <td>0</td>\n",
       "    </tr>\n",
       "    <tr>\n",
       "      <td>4</td>\n",
       "      <td>916</td>\n",
       "      <td>103928</td>\n",
       "      <td>30-34</td>\n",
       "      <td>M</td>\n",
       "      <td>28</td>\n",
       "      <td>4133</td>\n",
       "      <td>1</td>\n",
       "      <td>1.290000</td>\n",
       "      <td>1</td>\n",
       "      <td>1</td>\n",
       "      <td>2</td>\n",
       "      <td>0</td>\n",
       "    </tr>\n",
       "    <tr>\n",
       "      <td>...</td>\n",
       "      <td>...</td>\n",
       "      <td>...</td>\n",
       "      <td>...</td>\n",
       "      <td>...</td>\n",
       "      <td>...</td>\n",
       "      <td>...</td>\n",
       "      <td>...</td>\n",
       "      <td>...</td>\n",
       "      <td>...</td>\n",
       "      <td>...</td>\n",
       "      <td>...</td>\n",
       "      <td>...</td>\n",
       "    </tr>\n",
       "    <tr>\n",
       "      <td>1138</td>\n",
       "      <td>1178</td>\n",
       "      <td>179977</td>\n",
       "      <td>45-49</td>\n",
       "      <td>F</td>\n",
       "      <td>109</td>\n",
       "      <td>1129773</td>\n",
       "      <td>252</td>\n",
       "      <td>358.189997</td>\n",
       "      <td>13</td>\n",
       "      <td>2</td>\n",
       "      <td>1</td>\n",
       "      <td>3</td>\n",
       "    </tr>\n",
       "    <tr>\n",
       "      <td>1139</td>\n",
       "      <td>1178</td>\n",
       "      <td>179978</td>\n",
       "      <td>45-49</td>\n",
       "      <td>F</td>\n",
       "      <td>110</td>\n",
       "      <td>637549</td>\n",
       "      <td>120</td>\n",
       "      <td>173.880003</td>\n",
       "      <td>3</td>\n",
       "      <td>0</td>\n",
       "      <td>1</td>\n",
       "      <td>3</td>\n",
       "    </tr>\n",
       "    <tr>\n",
       "      <td>1140</td>\n",
       "      <td>1178</td>\n",
       "      <td>179979</td>\n",
       "      <td>45-49</td>\n",
       "      <td>F</td>\n",
       "      <td>111</td>\n",
       "      <td>151531</td>\n",
       "      <td>28</td>\n",
       "      <td>40.289999</td>\n",
       "      <td>2</td>\n",
       "      <td>0</td>\n",
       "      <td>1</td>\n",
       "      <td>3</td>\n",
       "    </tr>\n",
       "    <tr>\n",
       "      <td>1141</td>\n",
       "      <td>1178</td>\n",
       "      <td>179981</td>\n",
       "      <td>45-49</td>\n",
       "      <td>F</td>\n",
       "      <td>113</td>\n",
       "      <td>790253</td>\n",
       "      <td>135</td>\n",
       "      <td>198.710000</td>\n",
       "      <td>8</td>\n",
       "      <td>2</td>\n",
       "      <td>1</td>\n",
       "      <td>3</td>\n",
       "    </tr>\n",
       "    <tr>\n",
       "      <td>1142</td>\n",
       "      <td>1178</td>\n",
       "      <td>179982</td>\n",
       "      <td>45-49</td>\n",
       "      <td>F</td>\n",
       "      <td>114</td>\n",
       "      <td>513161</td>\n",
       "      <td>114</td>\n",
       "      <td>165.609999</td>\n",
       "      <td>5</td>\n",
       "      <td>2</td>\n",
       "      <td>1</td>\n",
       "      <td>3</td>\n",
       "    </tr>\n",
       "  </tbody>\n",
       "</table>\n",
       "<p>1143 rows × 12 columns</p>\n",
       "</div>"
      ],
      "text/plain": [
       "      xyz_campaign_id  fb_campaign_id    age gender  interest  Impressions  \\\n",
       "0                 916          103916  30-34      M        15         7350   \n",
       "1                 916          103917  30-34      M        16        17861   \n",
       "2                 916          103920  30-34      M        20          693   \n",
       "3                 916          103928  30-34      M        28         4259   \n",
       "4                 916          103928  30-34      M        28         4133   \n",
       "...               ...             ...    ...    ...       ...          ...   \n",
       "1138             1178          179977  45-49      F       109      1129773   \n",
       "1139             1178          179978  45-49      F       110       637549   \n",
       "1140             1178          179979  45-49      F       111       151531   \n",
       "1141             1178          179981  45-49      F       113       790253   \n",
       "1142             1178          179982  45-49      F       114       513161   \n",
       "\n",
       "      Clicks       Spent  Total_Conversion  Approved_Conversion  fb_counts  \\\n",
       "0          1    1.430000                 2                    1          1   \n",
       "1          2    1.820000                 2                    0          1   \n",
       "2          0    0.000000                 1                    0          1   \n",
       "3          1    1.250000                 1                    0          2   \n",
       "4          1    1.290000                 1                    1          2   \n",
       "...      ...         ...               ...                  ...        ...   \n",
       "1138     252  358.189997                13                    2          1   \n",
       "1139     120  173.880003                 3                    0          1   \n",
       "1140      28   40.289999                 2                    0          1   \n",
       "1141     135  198.710000                 8                    2          1   \n",
       "1142     114  165.609999                 5                    2          1   \n",
       "\n",
       "      age_number  \n",
       "0              0  \n",
       "1              0  \n",
       "2              0  \n",
       "3              0  \n",
       "4              0  \n",
       "...          ...  \n",
       "1138           3  \n",
       "1139           3  \n",
       "1140           3  \n",
       "1141           3  \n",
       "1142           3  \n",
       "\n",
       "[1143 rows x 12 columns]"
      ]
     },
     "execution_count": 91,
     "metadata": {},
     "output_type": "execute_result"
    }
   ],
   "source": [
    "df"
   ]
  },
  {
   "cell_type": "code",
   "execution_count": 92,
   "metadata": {},
   "outputs": [],
   "source": [
    "# Convert 'Approved_Conversion' from 1 to 6 values to 1 or 0.\n",
    "df['Approved_Conversion'] = df['Approved_Conversion'].astype('bool').astype('int')"
   ]
  },
  {
   "cell_type": "code",
   "execution_count": 93,
   "metadata": {},
   "outputs": [
    {
     "data": {
      "text/plain": [
       "0       1\n",
       "1       0\n",
       "2       0\n",
       "3       0\n",
       "4       1\n",
       "       ..\n",
       "1138    1\n",
       "1139    0\n",
       "1140    0\n",
       "1141    1\n",
       "1142    1\n",
       "Name: Approved_Conversion, Length: 1143, dtype: int64"
      ]
     },
     "execution_count": 93,
     "metadata": {},
     "output_type": "execute_result"
    }
   ],
   "source": [
    "df['Approved_Conversion']"
   ]
  },
  {
   "cell_type": "code",
   "execution_count": 94,
   "metadata": {},
   "outputs": [],
   "source": [
    "# Convert 'xyz_campaign_id' and 'interest' to category.\n",
    "to_category = ['xyz_campaign_id','interest']\n",
    "df[to_category] = df[to_category].astype('category')"
   ]
  },
  {
   "cell_type": "code",
   "execution_count": 95,
   "metadata": {},
   "outputs": [
    {
     "data": {
      "text/plain": [
       "xyz_campaign_id        category\n",
       "fb_campaign_id            int64\n",
       "age                      object\n",
       "gender                   object\n",
       "interest               category\n",
       "Impressions               int64\n",
       "Clicks                    int64\n",
       "Spent                   float64\n",
       "Total_Conversion          int64\n",
       "Approved_Conversion       int64\n",
       "fb_counts                 int64\n",
       "age_number                int64\n",
       "dtype: object"
      ]
     },
     "execution_count": 95,
     "metadata": {},
     "output_type": "execute_result"
    }
   ],
   "source": [
    "df.dtypes"
   ]
  },
  {
   "cell_type": "code",
   "execution_count": 96,
   "metadata": {},
   "outputs": [],
   "source": [
    "# Drop 'fb_campaign_id' and 'age' due to them being transformed into new columns.\n",
    "df= df.drop(columns=['fb_campaign_id','age'])"
   ]
  },
  {
   "cell_type": "code",
   "execution_count": 97,
   "metadata": {},
   "outputs": [
    {
     "data": {
      "text/html": [
       "<div>\n",
       "<style scoped>\n",
       "    .dataframe tbody tr th:only-of-type {\n",
       "        vertical-align: middle;\n",
       "    }\n",
       "\n",
       "    .dataframe tbody tr th {\n",
       "        vertical-align: top;\n",
       "    }\n",
       "\n",
       "    .dataframe thead th {\n",
       "        text-align: right;\n",
       "    }\n",
       "</style>\n",
       "<table border=\"1\" class=\"dataframe\">\n",
       "  <thead>\n",
       "    <tr style=\"text-align: right;\">\n",
       "      <th></th>\n",
       "      <th>xyz_campaign_id</th>\n",
       "      <th>gender</th>\n",
       "      <th>interest</th>\n",
       "      <th>Impressions</th>\n",
       "      <th>Clicks</th>\n",
       "      <th>Spent</th>\n",
       "      <th>Total_Conversion</th>\n",
       "      <th>Approved_Conversion</th>\n",
       "      <th>fb_counts</th>\n",
       "      <th>age_number</th>\n",
       "    </tr>\n",
       "  </thead>\n",
       "  <tbody>\n",
       "    <tr>\n",
       "      <td>0</td>\n",
       "      <td>916</td>\n",
       "      <td>M</td>\n",
       "      <td>15</td>\n",
       "      <td>7350</td>\n",
       "      <td>1</td>\n",
       "      <td>1.430000</td>\n",
       "      <td>2</td>\n",
       "      <td>1</td>\n",
       "      <td>1</td>\n",
       "      <td>0</td>\n",
       "    </tr>\n",
       "    <tr>\n",
       "      <td>1</td>\n",
       "      <td>916</td>\n",
       "      <td>M</td>\n",
       "      <td>16</td>\n",
       "      <td>17861</td>\n",
       "      <td>2</td>\n",
       "      <td>1.820000</td>\n",
       "      <td>2</td>\n",
       "      <td>0</td>\n",
       "      <td>1</td>\n",
       "      <td>0</td>\n",
       "    </tr>\n",
       "    <tr>\n",
       "      <td>2</td>\n",
       "      <td>916</td>\n",
       "      <td>M</td>\n",
       "      <td>20</td>\n",
       "      <td>693</td>\n",
       "      <td>0</td>\n",
       "      <td>0.000000</td>\n",
       "      <td>1</td>\n",
       "      <td>0</td>\n",
       "      <td>1</td>\n",
       "      <td>0</td>\n",
       "    </tr>\n",
       "    <tr>\n",
       "      <td>3</td>\n",
       "      <td>916</td>\n",
       "      <td>M</td>\n",
       "      <td>28</td>\n",
       "      <td>4259</td>\n",
       "      <td>1</td>\n",
       "      <td>1.250000</td>\n",
       "      <td>1</td>\n",
       "      <td>0</td>\n",
       "      <td>2</td>\n",
       "      <td>0</td>\n",
       "    </tr>\n",
       "    <tr>\n",
       "      <td>4</td>\n",
       "      <td>916</td>\n",
       "      <td>M</td>\n",
       "      <td>28</td>\n",
       "      <td>4133</td>\n",
       "      <td>1</td>\n",
       "      <td>1.290000</td>\n",
       "      <td>1</td>\n",
       "      <td>1</td>\n",
       "      <td>2</td>\n",
       "      <td>0</td>\n",
       "    </tr>\n",
       "    <tr>\n",
       "      <td>...</td>\n",
       "      <td>...</td>\n",
       "      <td>...</td>\n",
       "      <td>...</td>\n",
       "      <td>...</td>\n",
       "      <td>...</td>\n",
       "      <td>...</td>\n",
       "      <td>...</td>\n",
       "      <td>...</td>\n",
       "      <td>...</td>\n",
       "      <td>...</td>\n",
       "    </tr>\n",
       "    <tr>\n",
       "      <td>1138</td>\n",
       "      <td>1178</td>\n",
       "      <td>F</td>\n",
       "      <td>109</td>\n",
       "      <td>1129773</td>\n",
       "      <td>252</td>\n",
       "      <td>358.189997</td>\n",
       "      <td>13</td>\n",
       "      <td>1</td>\n",
       "      <td>1</td>\n",
       "      <td>3</td>\n",
       "    </tr>\n",
       "    <tr>\n",
       "      <td>1139</td>\n",
       "      <td>1178</td>\n",
       "      <td>F</td>\n",
       "      <td>110</td>\n",
       "      <td>637549</td>\n",
       "      <td>120</td>\n",
       "      <td>173.880003</td>\n",
       "      <td>3</td>\n",
       "      <td>0</td>\n",
       "      <td>1</td>\n",
       "      <td>3</td>\n",
       "    </tr>\n",
       "    <tr>\n",
       "      <td>1140</td>\n",
       "      <td>1178</td>\n",
       "      <td>F</td>\n",
       "      <td>111</td>\n",
       "      <td>151531</td>\n",
       "      <td>28</td>\n",
       "      <td>40.289999</td>\n",
       "      <td>2</td>\n",
       "      <td>0</td>\n",
       "      <td>1</td>\n",
       "      <td>3</td>\n",
       "    </tr>\n",
       "    <tr>\n",
       "      <td>1141</td>\n",
       "      <td>1178</td>\n",
       "      <td>F</td>\n",
       "      <td>113</td>\n",
       "      <td>790253</td>\n",
       "      <td>135</td>\n",
       "      <td>198.710000</td>\n",
       "      <td>8</td>\n",
       "      <td>1</td>\n",
       "      <td>1</td>\n",
       "      <td>3</td>\n",
       "    </tr>\n",
       "    <tr>\n",
       "      <td>1142</td>\n",
       "      <td>1178</td>\n",
       "      <td>F</td>\n",
       "      <td>114</td>\n",
       "      <td>513161</td>\n",
       "      <td>114</td>\n",
       "      <td>165.609999</td>\n",
       "      <td>5</td>\n",
       "      <td>1</td>\n",
       "      <td>1</td>\n",
       "      <td>3</td>\n",
       "    </tr>\n",
       "  </tbody>\n",
       "</table>\n",
       "<p>1143 rows × 10 columns</p>\n",
       "</div>"
      ],
      "text/plain": [
       "     xyz_campaign_id gender interest  Impressions  Clicks       Spent  \\\n",
       "0                916      M       15         7350       1    1.430000   \n",
       "1                916      M       16        17861       2    1.820000   \n",
       "2                916      M       20          693       0    0.000000   \n",
       "3                916      M       28         4259       1    1.250000   \n",
       "4                916      M       28         4133       1    1.290000   \n",
       "...              ...    ...      ...          ...     ...         ...   \n",
       "1138            1178      F      109      1129773     252  358.189997   \n",
       "1139            1178      F      110       637549     120  173.880003   \n",
       "1140            1178      F      111       151531      28   40.289999   \n",
       "1141            1178      F      113       790253     135  198.710000   \n",
       "1142            1178      F      114       513161     114  165.609999   \n",
       "\n",
       "      Total_Conversion  Approved_Conversion  fb_counts  age_number  \n",
       "0                    2                    1          1           0  \n",
       "1                    2                    0          1           0  \n",
       "2                    1                    0          1           0  \n",
       "3                    1                    0          2           0  \n",
       "4                    1                    1          2           0  \n",
       "...                ...                  ...        ...         ...  \n",
       "1138                13                    1          1           3  \n",
       "1139                 3                    0          1           3  \n",
       "1140                 2                    0          1           3  \n",
       "1141                 8                    1          1           3  \n",
       "1142                 5                    1          1           3  \n",
       "\n",
       "[1143 rows x 10 columns]"
      ]
     },
     "execution_count": 97,
     "metadata": {},
     "output_type": "execute_result"
    }
   ],
   "source": [
    "df"
   ]
  },
  {
   "cell_type": "code",
   "execution_count": 98,
   "metadata": {},
   "outputs": [
    {
     "data": {
      "text/html": [
       "<div>\n",
       "<style scoped>\n",
       "    .dataframe tbody tr th:only-of-type {\n",
       "        vertical-align: middle;\n",
       "    }\n",
       "\n",
       "    .dataframe tbody tr th {\n",
       "        vertical-align: top;\n",
       "    }\n",
       "\n",
       "    .dataframe thead th {\n",
       "        text-align: right;\n",
       "    }\n",
       "</style>\n",
       "<table border=\"1\" class=\"dataframe\">\n",
       "  <thead>\n",
       "    <tr style=\"text-align: right;\">\n",
       "      <th></th>\n",
       "      <th>Impressions</th>\n",
       "      <th>Clicks</th>\n",
       "      <th>Spent</th>\n",
       "      <th>Total_Conversion</th>\n",
       "      <th>Approved_Conversion</th>\n",
       "      <th>fb_counts</th>\n",
       "      <th>age_number</th>\n",
       "      <th>xyz_campaign_id_916</th>\n",
       "      <th>xyz_campaign_id_936</th>\n",
       "      <th>xyz_campaign_id_1178</th>\n",
       "      <th>...</th>\n",
       "      <th>interest_105</th>\n",
       "      <th>interest_106</th>\n",
       "      <th>interest_107</th>\n",
       "      <th>interest_108</th>\n",
       "      <th>interest_109</th>\n",
       "      <th>interest_110</th>\n",
       "      <th>interest_111</th>\n",
       "      <th>interest_112</th>\n",
       "      <th>interest_113</th>\n",
       "      <th>interest_114</th>\n",
       "    </tr>\n",
       "  </thead>\n",
       "  <tbody>\n",
       "    <tr>\n",
       "      <td>0</td>\n",
       "      <td>7350</td>\n",
       "      <td>1</td>\n",
       "      <td>1.43</td>\n",
       "      <td>2</td>\n",
       "      <td>1</td>\n",
       "      <td>1</td>\n",
       "      <td>0</td>\n",
       "      <td>1</td>\n",
       "      <td>0</td>\n",
       "      <td>0</td>\n",
       "      <td>...</td>\n",
       "      <td>0</td>\n",
       "      <td>0</td>\n",
       "      <td>0</td>\n",
       "      <td>0</td>\n",
       "      <td>0</td>\n",
       "      <td>0</td>\n",
       "      <td>0</td>\n",
       "      <td>0</td>\n",
       "      <td>0</td>\n",
       "      <td>0</td>\n",
       "    </tr>\n",
       "    <tr>\n",
       "      <td>1</td>\n",
       "      <td>17861</td>\n",
       "      <td>2</td>\n",
       "      <td>1.82</td>\n",
       "      <td>2</td>\n",
       "      <td>0</td>\n",
       "      <td>1</td>\n",
       "      <td>0</td>\n",
       "      <td>1</td>\n",
       "      <td>0</td>\n",
       "      <td>0</td>\n",
       "      <td>...</td>\n",
       "      <td>0</td>\n",
       "      <td>0</td>\n",
       "      <td>0</td>\n",
       "      <td>0</td>\n",
       "      <td>0</td>\n",
       "      <td>0</td>\n",
       "      <td>0</td>\n",
       "      <td>0</td>\n",
       "      <td>0</td>\n",
       "      <td>0</td>\n",
       "    </tr>\n",
       "    <tr>\n",
       "      <td>2</td>\n",
       "      <td>693</td>\n",
       "      <td>0</td>\n",
       "      <td>0.00</td>\n",
       "      <td>1</td>\n",
       "      <td>0</td>\n",
       "      <td>1</td>\n",
       "      <td>0</td>\n",
       "      <td>1</td>\n",
       "      <td>0</td>\n",
       "      <td>0</td>\n",
       "      <td>...</td>\n",
       "      <td>0</td>\n",
       "      <td>0</td>\n",
       "      <td>0</td>\n",
       "      <td>0</td>\n",
       "      <td>0</td>\n",
       "      <td>0</td>\n",
       "      <td>0</td>\n",
       "      <td>0</td>\n",
       "      <td>0</td>\n",
       "      <td>0</td>\n",
       "    </tr>\n",
       "    <tr>\n",
       "      <td>3</td>\n",
       "      <td>4259</td>\n",
       "      <td>1</td>\n",
       "      <td>1.25</td>\n",
       "      <td>1</td>\n",
       "      <td>0</td>\n",
       "      <td>2</td>\n",
       "      <td>0</td>\n",
       "      <td>1</td>\n",
       "      <td>0</td>\n",
       "      <td>0</td>\n",
       "      <td>...</td>\n",
       "      <td>0</td>\n",
       "      <td>0</td>\n",
       "      <td>0</td>\n",
       "      <td>0</td>\n",
       "      <td>0</td>\n",
       "      <td>0</td>\n",
       "      <td>0</td>\n",
       "      <td>0</td>\n",
       "      <td>0</td>\n",
       "      <td>0</td>\n",
       "    </tr>\n",
       "    <tr>\n",
       "      <td>4</td>\n",
       "      <td>4133</td>\n",
       "      <td>1</td>\n",
       "      <td>1.29</td>\n",
       "      <td>1</td>\n",
       "      <td>1</td>\n",
       "      <td>2</td>\n",
       "      <td>0</td>\n",
       "      <td>1</td>\n",
       "      <td>0</td>\n",
       "      <td>0</td>\n",
       "      <td>...</td>\n",
       "      <td>0</td>\n",
       "      <td>0</td>\n",
       "      <td>0</td>\n",
       "      <td>0</td>\n",
       "      <td>0</td>\n",
       "      <td>0</td>\n",
       "      <td>0</td>\n",
       "      <td>0</td>\n",
       "      <td>0</td>\n",
       "      <td>0</td>\n",
       "    </tr>\n",
       "  </tbody>\n",
       "</table>\n",
       "<p>5 rows × 52 columns</p>\n",
       "</div>"
      ],
      "text/plain": [
       "   Impressions  Clicks  Spent  Total_Conversion  Approved_Conversion  \\\n",
       "0         7350       1   1.43                 2                    1   \n",
       "1        17861       2   1.82                 2                    0   \n",
       "2          693       0   0.00                 1                    0   \n",
       "3         4259       1   1.25                 1                    0   \n",
       "4         4133       1   1.29                 1                    1   \n",
       "\n",
       "   fb_counts  age_number  xyz_campaign_id_916  xyz_campaign_id_936  \\\n",
       "0          1           0                    1                    0   \n",
       "1          1           0                    1                    0   \n",
       "2          1           0                    1                    0   \n",
       "3          2           0                    1                    0   \n",
       "4          2           0                    1                    0   \n",
       "\n",
       "   xyz_campaign_id_1178  ...  interest_105  interest_106  interest_107  \\\n",
       "0                     0  ...             0             0             0   \n",
       "1                     0  ...             0             0             0   \n",
       "2                     0  ...             0             0             0   \n",
       "3                     0  ...             0             0             0   \n",
       "4                     0  ...             0             0             0   \n",
       "\n",
       "   interest_108  interest_109  interest_110  interest_111  interest_112  \\\n",
       "0             0             0             0             0             0   \n",
       "1             0             0             0             0             0   \n",
       "2             0             0             0             0             0   \n",
       "3             0             0             0             0             0   \n",
       "4             0             0             0             0             0   \n",
       "\n",
       "   interest_113  interest_114  \n",
       "0             0             0  \n",
       "1             0             0  \n",
       "2             0             0  \n",
       "3             0             0  \n",
       "4             0             0  \n",
       "\n",
       "[5 rows x 52 columns]"
      ]
     },
     "execution_count": 98,
     "metadata": {},
     "output_type": "execute_result"
    }
   ],
   "source": [
    "# One hot encode categorical data.\n",
    "df = pd.get_dummies(df)\n",
    "df.head()"
   ]
  },
  {
   "cell_type": "code",
   "execution_count": 99,
   "metadata": {},
   "outputs": [],
   "source": [
    "# Isolate the target.\n",
    "y = df.pop('Approved_Conversion')"
   ]
  },
  {
   "cell_type": "code",
   "execution_count": 100,
   "metadata": {},
   "outputs": [
    {
     "data": {
      "text/plain": [
       "0       1\n",
       "1       0\n",
       "2       0\n",
       "3       0\n",
       "4       1\n",
       "       ..\n",
       "1138    1\n",
       "1139    0\n",
       "1140    0\n",
       "1141    1\n",
       "1142    1\n",
       "Name: Approved_Conversion, Length: 1143, dtype: int64"
      ]
     },
     "execution_count": 100,
     "metadata": {},
     "output_type": "execute_result"
    }
   ],
   "source": [
    "y"
   ]
  },
  {
   "cell_type": "code",
   "execution_count": 101,
   "metadata": {},
   "outputs": [],
   "source": [
    "# Train test split\n",
    "\n",
    "X_train, X_test, y_train,y_test  = train_test_split(df.drop(columns=['Total_Conversion']),\n",
    "                                                    y,test_size=.3)"
   ]
  },
  {
   "cell_type": "code",
   "execution_count": 102,
   "metadata": {},
   "outputs": [
    {
     "data": {
      "text/html": [
       "<div>\n",
       "<style scoped>\n",
       "    .dataframe tbody tr th:only-of-type {\n",
       "        vertical-align: middle;\n",
       "    }\n",
       "\n",
       "    .dataframe tbody tr th {\n",
       "        vertical-align: top;\n",
       "    }\n",
       "\n",
       "    .dataframe thead th {\n",
       "        text-align: right;\n",
       "    }\n",
       "</style>\n",
       "<table border=\"1\" class=\"dataframe\">\n",
       "  <thead>\n",
       "    <tr style=\"text-align: right;\">\n",
       "      <th></th>\n",
       "      <th>Impressions</th>\n",
       "      <th>Clicks</th>\n",
       "      <th>Spent</th>\n",
       "      <th>fb_counts</th>\n",
       "      <th>age_number</th>\n",
       "      <th>xyz_campaign_id_916</th>\n",
       "      <th>xyz_campaign_id_936</th>\n",
       "      <th>xyz_campaign_id_1178</th>\n",
       "      <th>gender_F</th>\n",
       "      <th>gender_M</th>\n",
       "      <th>...</th>\n",
       "      <th>interest_105</th>\n",
       "      <th>interest_106</th>\n",
       "      <th>interest_107</th>\n",
       "      <th>interest_108</th>\n",
       "      <th>interest_109</th>\n",
       "      <th>interest_110</th>\n",
       "      <th>interest_111</th>\n",
       "      <th>interest_112</th>\n",
       "      <th>interest_113</th>\n",
       "      <th>interest_114</th>\n",
       "    </tr>\n",
       "  </thead>\n",
       "  <tbody>\n",
       "    <tr>\n",
       "      <td>548</td>\n",
       "      <td>20618</td>\n",
       "      <td>1</td>\n",
       "      <td>2.100000</td>\n",
       "      <td>5</td>\n",
       "      <td>0</td>\n",
       "      <td>0</td>\n",
       "      <td>0</td>\n",
       "      <td>1</td>\n",
       "      <td>0</td>\n",
       "      <td>1</td>\n",
       "      <td>...</td>\n",
       "      <td>0</td>\n",
       "      <td>0</td>\n",
       "      <td>0</td>\n",
       "      <td>0</td>\n",
       "      <td>0</td>\n",
       "      <td>0</td>\n",
       "      <td>0</td>\n",
       "      <td>0</td>\n",
       "      <td>0</td>\n",
       "      <td>0</td>\n",
       "    </tr>\n",
       "    <tr>\n",
       "      <td>909</td>\n",
       "      <td>1247717</td>\n",
       "      <td>222</td>\n",
       "      <td>343.419999</td>\n",
       "      <td>6</td>\n",
       "      <td>1</td>\n",
       "      <td>0</td>\n",
       "      <td>0</td>\n",
       "      <td>1</td>\n",
       "      <td>1</td>\n",
       "      <td>0</td>\n",
       "      <td>...</td>\n",
       "      <td>0</td>\n",
       "      <td>0</td>\n",
       "      <td>0</td>\n",
       "      <td>0</td>\n",
       "      <td>0</td>\n",
       "      <td>0</td>\n",
       "      <td>0</td>\n",
       "      <td>0</td>\n",
       "      <td>0</td>\n",
       "      <td>0</td>\n",
       "    </tr>\n",
       "    <tr>\n",
       "      <td>928</td>\n",
       "      <td>227473</td>\n",
       "      <td>52</td>\n",
       "      <td>71.580001</td>\n",
       "      <td>2</td>\n",
       "      <td>1</td>\n",
       "      <td>0</td>\n",
       "      <td>0</td>\n",
       "      <td>1</td>\n",
       "      <td>1</td>\n",
       "      <td>0</td>\n",
       "      <td>...</td>\n",
       "      <td>0</td>\n",
       "      <td>0</td>\n",
       "      <td>0</td>\n",
       "      <td>0</td>\n",
       "      <td>0</td>\n",
       "      <td>0</td>\n",
       "      <td>0</td>\n",
       "      <td>0</td>\n",
       "      <td>0</td>\n",
       "      <td>0</td>\n",
       "    </tr>\n",
       "    <tr>\n",
       "      <td>620</td>\n",
       "      <td>98066</td>\n",
       "      <td>9</td>\n",
       "      <td>16.150000</td>\n",
       "      <td>5</td>\n",
       "      <td>1</td>\n",
       "      <td>0</td>\n",
       "      <td>0</td>\n",
       "      <td>1</td>\n",
       "      <td>0</td>\n",
       "      <td>1</td>\n",
       "      <td>...</td>\n",
       "      <td>0</td>\n",
       "      <td>0</td>\n",
       "      <td>0</td>\n",
       "      <td>0</td>\n",
       "      <td>0</td>\n",
       "      <td>0</td>\n",
       "      <td>0</td>\n",
       "      <td>0</td>\n",
       "      <td>0</td>\n",
       "      <td>0</td>\n",
       "    </tr>\n",
       "    <tr>\n",
       "      <td>906</td>\n",
       "      <td>24664</td>\n",
       "      <td>2</td>\n",
       "      <td>2.630000</td>\n",
       "      <td>2</td>\n",
       "      <td>1</td>\n",
       "      <td>0</td>\n",
       "      <td>0</td>\n",
       "      <td>1</td>\n",
       "      <td>1</td>\n",
       "      <td>0</td>\n",
       "      <td>...</td>\n",
       "      <td>0</td>\n",
       "      <td>0</td>\n",
       "      <td>0</td>\n",
       "      <td>0</td>\n",
       "      <td>0</td>\n",
       "      <td>0</td>\n",
       "      <td>0</td>\n",
       "      <td>0</td>\n",
       "      <td>0</td>\n",
       "      <td>0</td>\n",
       "    </tr>\n",
       "    <tr>\n",
       "      <td>...</td>\n",
       "      <td>...</td>\n",
       "      <td>...</td>\n",
       "      <td>...</td>\n",
       "      <td>...</td>\n",
       "      <td>...</td>\n",
       "      <td>...</td>\n",
       "      <td>...</td>\n",
       "      <td>...</td>\n",
       "      <td>...</td>\n",
       "      <td>...</td>\n",
       "      <td>...</td>\n",
       "      <td>...</td>\n",
       "      <td>...</td>\n",
       "      <td>...</td>\n",
       "      <td>...</td>\n",
       "      <td>...</td>\n",
       "      <td>...</td>\n",
       "      <td>...</td>\n",
       "      <td>...</td>\n",
       "      <td>...</td>\n",
       "      <td>...</td>\n",
       "    </tr>\n",
       "    <tr>\n",
       "      <td>884</td>\n",
       "      <td>1296189</td>\n",
       "      <td>212</td>\n",
       "      <td>343.259994</td>\n",
       "      <td>4</td>\n",
       "      <td>0</td>\n",
       "      <td>0</td>\n",
       "      <td>0</td>\n",
       "      <td>1</td>\n",
       "      <td>1</td>\n",
       "      <td>0</td>\n",
       "      <td>...</td>\n",
       "      <td>0</td>\n",
       "      <td>0</td>\n",
       "      <td>0</td>\n",
       "      <td>0</td>\n",
       "      <td>0</td>\n",
       "      <td>0</td>\n",
       "      <td>0</td>\n",
       "      <td>0</td>\n",
       "      <td>0</td>\n",
       "      <td>0</td>\n",
       "    </tr>\n",
       "    <tr>\n",
       "      <td>172</td>\n",
       "      <td>2077</td>\n",
       "      <td>0</td>\n",
       "      <td>0.000000</td>\n",
       "      <td>2</td>\n",
       "      <td>0</td>\n",
       "      <td>0</td>\n",
       "      <td>1</td>\n",
       "      <td>0</td>\n",
       "      <td>1</td>\n",
       "      <td>0</td>\n",
       "      <td>...</td>\n",
       "      <td>0</td>\n",
       "      <td>0</td>\n",
       "      <td>0</td>\n",
       "      <td>0</td>\n",
       "      <td>0</td>\n",
       "      <td>0</td>\n",
       "      <td>0</td>\n",
       "      <td>0</td>\n",
       "      <td>0</td>\n",
       "      <td>0</td>\n",
       "    </tr>\n",
       "    <tr>\n",
       "      <td>225</td>\n",
       "      <td>12706</td>\n",
       "      <td>3</td>\n",
       "      <td>4.990000</td>\n",
       "      <td>2</td>\n",
       "      <td>3</td>\n",
       "      <td>0</td>\n",
       "      <td>1</td>\n",
       "      <td>0</td>\n",
       "      <td>1</td>\n",
       "      <td>0</td>\n",
       "      <td>...</td>\n",
       "      <td>0</td>\n",
       "      <td>0</td>\n",
       "      <td>0</td>\n",
       "      <td>0</td>\n",
       "      <td>0</td>\n",
       "      <td>0</td>\n",
       "      <td>0</td>\n",
       "      <td>0</td>\n",
       "      <td>0</td>\n",
       "      <td>0</td>\n",
       "    </tr>\n",
       "    <tr>\n",
       "      <td>123</td>\n",
       "      <td>2148</td>\n",
       "      <td>1</td>\n",
       "      <td>1.580000</td>\n",
       "      <td>1</td>\n",
       "      <td>2</td>\n",
       "      <td>0</td>\n",
       "      <td>1</td>\n",
       "      <td>0</td>\n",
       "      <td>0</td>\n",
       "      <td>1</td>\n",
       "      <td>...</td>\n",
       "      <td>0</td>\n",
       "      <td>0</td>\n",
       "      <td>0</td>\n",
       "      <td>0</td>\n",
       "      <td>0</td>\n",
       "      <td>0</td>\n",
       "      <td>0</td>\n",
       "      <td>0</td>\n",
       "      <td>0</td>\n",
       "      <td>0</td>\n",
       "    </tr>\n",
       "    <tr>\n",
       "      <td>612</td>\n",
       "      <td>169108</td>\n",
       "      <td>20</td>\n",
       "      <td>32.240000</td>\n",
       "      <td>4</td>\n",
       "      <td>0</td>\n",
       "      <td>0</td>\n",
       "      <td>0</td>\n",
       "      <td>1</td>\n",
       "      <td>0</td>\n",
       "      <td>1</td>\n",
       "      <td>...</td>\n",
       "      <td>0</td>\n",
       "      <td>0</td>\n",
       "      <td>0</td>\n",
       "      <td>0</td>\n",
       "      <td>0</td>\n",
       "      <td>0</td>\n",
       "      <td>0</td>\n",
       "      <td>0</td>\n",
       "      <td>0</td>\n",
       "      <td>0</td>\n",
       "    </tr>\n",
       "  </tbody>\n",
       "</table>\n",
       "<p>800 rows × 50 columns</p>\n",
       "</div>"
      ],
      "text/plain": [
       "     Impressions  Clicks       Spent  fb_counts  age_number  \\\n",
       "548        20618       1    2.100000          5           0   \n",
       "909      1247717     222  343.419999          6           1   \n",
       "928       227473      52   71.580001          2           1   \n",
       "620        98066       9   16.150000          5           1   \n",
       "906        24664       2    2.630000          2           1   \n",
       "..           ...     ...         ...        ...         ...   \n",
       "884      1296189     212  343.259994          4           0   \n",
       "172         2077       0    0.000000          2           0   \n",
       "225        12706       3    4.990000          2           3   \n",
       "123         2148       1    1.580000          1           2   \n",
       "612       169108      20   32.240000          4           0   \n",
       "\n",
       "     xyz_campaign_id_916  xyz_campaign_id_936  xyz_campaign_id_1178  gender_F  \\\n",
       "548                    0                    0                     1         0   \n",
       "909                    0                    0                     1         1   \n",
       "928                    0                    0                     1         1   \n",
       "620                    0                    0                     1         0   \n",
       "906                    0                    0                     1         1   \n",
       "..                   ...                  ...                   ...       ...   \n",
       "884                    0                    0                     1         1   \n",
       "172                    0                    1                     0         1   \n",
       "225                    0                    1                     0         1   \n",
       "123                    0                    1                     0         0   \n",
       "612                    0                    0                     1         0   \n",
       "\n",
       "     gender_M  ...  interest_105  interest_106  interest_107  interest_108  \\\n",
       "548         1  ...             0             0             0             0   \n",
       "909         0  ...             0             0             0             0   \n",
       "928         0  ...             0             0             0             0   \n",
       "620         1  ...             0             0             0             0   \n",
       "906         0  ...             0             0             0             0   \n",
       "..        ...  ...           ...           ...           ...           ...   \n",
       "884         0  ...             0             0             0             0   \n",
       "172         0  ...             0             0             0             0   \n",
       "225         0  ...             0             0             0             0   \n",
       "123         1  ...             0             0             0             0   \n",
       "612         1  ...             0             0             0             0   \n",
       "\n",
       "     interest_109  interest_110  interest_111  interest_112  interest_113  \\\n",
       "548             0             0             0             0             0   \n",
       "909             0             0             0             0             0   \n",
       "928             0             0             0             0             0   \n",
       "620             0             0             0             0             0   \n",
       "906             0             0             0             0             0   \n",
       "..            ...           ...           ...           ...           ...   \n",
       "884             0             0             0             0             0   \n",
       "172             0             0             0             0             0   \n",
       "225             0             0             0             0             0   \n",
       "123             0             0             0             0             0   \n",
       "612             0             0             0             0             0   \n",
       "\n",
       "     interest_114  \n",
       "548             0  \n",
       "909             0  \n",
       "928             0  \n",
       "620             0  \n",
       "906             0  \n",
       "..            ...  \n",
       "884             0  \n",
       "172             0  \n",
       "225             0  \n",
       "123             0  \n",
       "612             0  \n",
       "\n",
       "[800 rows x 50 columns]"
      ]
     },
     "execution_count": 102,
     "metadata": {},
     "output_type": "execute_result"
    }
   ],
   "source": [
    "X_train"
   ]
  },
  {
   "cell_type": "code",
   "execution_count": 103,
   "metadata": {},
   "outputs": [
    {
     "data": {
      "text/plain": [
       "1    0.5175\n",
       "0    0.4825\n",
       "Name: Approved_Conversion, dtype: float64"
      ]
     },
     "execution_count": 103,
     "metadata": {},
     "output_type": "execute_result"
    }
   ],
   "source": [
    "# Check for imbalance.\n",
    "\n",
    "y_train.value_counts(normalize=True)"
   ]
  },
  {
   "cell_type": "code",
   "execution_count": 104,
   "metadata": {},
   "outputs": [
    {
     "data": {
      "text/plain": [
       "0    0.504373\n",
       "1    0.495627\n",
       "Name: Approved_Conversion, dtype: float64"
      ]
     },
     "execution_count": 104,
     "metadata": {},
     "output_type": "execute_result"
    }
   ],
   "source": [
    "y_test.value_counts(normalize=True)"
   ]
  },
  {
   "cell_type": "markdown",
   "metadata": {},
   "source": [
    "# Model Evaluation Function"
   ]
  },
  {
   "cell_type": "code",
   "execution_count": 105,
   "metadata": {},
   "outputs": [],
   "source": [
    "def evaluate_model(y_train, y_true, y_pred, X_train, X_true, clf):\n",
    "    \n",
    "    train_score = clf.score(X_train,y_train)\n",
    "    test_score = clf.score(X_true,y_true)\n",
    "    print(f\"Train score= {train_score}\")\n",
    "    print(f\"Test score= {test_score}\")\n",
    "    \n",
    "    ## Classification Report / Scores \n",
    "    print(metrics.classification_report(y_true,y_pred))\n",
    "    \n",
    "    fig, ax = plt.subplots(figsize=(10,4),ncols=2)\n",
    "    metrics.plot_confusion_matrix(clf,X_true,y_true,cmap=\"Reds\",\n",
    "                                  normalize='true',ax=ax[0])\n",
    "    ax[0].set(title='Confusion Matrix')\n",
    "    ax[0].grid(False)\n",
    "    y_score = clf.predict_proba(X_true)[:,1]\n",
    "    \n",
    "    fpr,tpr,thresh = metrics.roc_curve(y_true,y_score)\n",
    "    # print(f\"ROC-area-under-the-curve= {}\")\n",
    "    roc_auc = round(metrics.auc(fpr,tpr),3)\n",
    "    ax[1].plot(fpr,tpr,color='darkorange',label=f'ROC Curve (AUC={roc_auc})')\n",
    "    ax[1].plot([0,1],[0,1],ls=':')\n",
    "    ax[1].legend()\n",
    "    ax[1].grid()\n",
    "    ax[1].set(ylabel='True Positive Rate',xlabel='False Positive Rate',title='Receiver operating characteristic (ROC) Curve')\n",
    "    plt.tight_layout()\n",
    "    plt.show()\n",
    "#   try: \n",
    "#        df_important = plot_importance(clf)\n",
    "#   except:\n",
    "#        df_important = None\n",
    "    \n",
    "#    return df_important\n",
    "\n",
    "    df_import = pd.Series(clf.feature_importances_, index = X_train.columns,name='Importance')\n",
    "    print(df_import.sort_values(ascending=False))"
   ]
  },
  {
   "cell_type": "markdown",
   "metadata": {},
   "source": [
    "# Timer Class/Function"
   ]
  },
  {
   "cell_type": "code",
   "execution_count": 106,
   "metadata": {},
   "outputs": [
    {
     "name": "stdout",
     "output_type": "stream",
     "text": [
      "America/New_York\n",
      "05/06/20 - 05:33 PM\n",
      "2020-05-06 17:33:28.530339-04:00\n"
     ]
    }
   ],
   "source": [
    "tz = tzlocal.get_localzone()\n",
    "print(tz)\n",
    "start = dt.datetime.now(tz)\n",
    "print(start.strftime(\"%m/%d/%y - %I:%M %p\"))\n",
    "print(dt.datetime.now(tz))"
   ]
  },
  {
   "cell_type": "code",
   "execution_count": 107,
   "metadata": {},
   "outputs": [
    {
     "name": "stdout",
     "output_type": "stream",
     "text": [
      "2020-05-06 17:33:28.549819-04:00\n",
      "[i] Timer started at05/06/20 - 05:33 PM\n",
      "[i] Timer ended at 05/06/20 - 05:33 PM\n",
      "- Total time = 0:00:00.000186\n"
     ]
    }
   ],
   "source": [
    "## a timer to record how long a process takes\n",
    "class Timer():\n",
    "    ## def init\n",
    "    def __init__(self,format_=\"%m/%d/%y - %I:%M %p\"):\n",
    "        import tzlocal\n",
    "        self.tz = tzlocal.get_localzone()\n",
    "        self.fmt = format_\n",
    "        \n",
    "        self.created_at = self.get_time()# get time\n",
    "        \n",
    "\n",
    "    \n",
    "    ## def get time method\n",
    "    def get_time(self):\n",
    "        import datetime as dt\n",
    "        return dt.datetime.now(self.tz)\n",
    "\n",
    "    ## def start\n",
    "    def start(self):\n",
    "        time = self.get_time()\n",
    "        self.start = time\n",
    "        print(f\"[i] Timer started at{self.start.strftime(self.fmt)}\")\n",
    "        \n",
    "        \n",
    "\n",
    "    ## def stop\n",
    "    def stop(self):\n",
    "        time = self.get_time()\n",
    "        self.end = time\n",
    "        print(f\"[i] Timer ended at {self.end.strftime(self.fmt)}\")\n",
    "        print(f\"- Total time = {self.end-self.start}\")\n",
    "timer = Timer()\n",
    "print(timer.created_at)\n",
    "timer.start()\n",
    "timer.stop()"
   ]
  },
  {
   "cell_type": "markdown",
   "metadata": {},
   "source": [
    "# Tree Visualization Function"
   ]
  },
  {
   "cell_type": "code",
   "execution_count": 108,
   "metadata": {},
   "outputs": [],
   "source": [
    "# visualize the decision tree\n",
    "def visualize_tree(tree,feature_names=None,class_names=['0','1'],\n",
    "                   kws={},save_filename=None,format_='png',save_and_show=False):\n",
    "    \"\"\"Visualizes a sklearn tree using sklearn.tree.export_graphviz\"\"\"\n",
    "    from sklearn.tree import export_graphviz\n",
    "    from IPython.display import SVG\n",
    "    import graphviz #import Source\n",
    "    from IPython.display import display\n",
    "    \n",
    "    if feature_names is None:\n",
    "        feature_names=X_train.columns\n",
    "\n",
    "    tree_viz_kws =  dict(out_file=None,rounded=True, rotate=False, filled = True)\n",
    "    tree_viz_kws.update(kws)\n",
    "\n",
    "    # tree.export_graphviz(dt) #if you wish to save the output to a dot file instead\n",
    "    tree_data=export_graphviz(tree,feature_names=feature_names, \n",
    "                                   class_names=class_names,**tree_viz_kws)\n",
    "    graph = graphviz.Source(tree_data,format=format_)#'png')\n",
    "    \n",
    "    if save_filename is not None:\n",
    "        graph.render(save_filename)\n",
    "        if save_and_show:\n",
    "            display(graph)\n",
    "        else:\n",
    "            print(f'[i] Tree saved as {save_filename}.{format_}')\n",
    "    else:\n",
    "        display(graph)\n",
    "\n",
    "#    display(SVG(graph.pipe(format=format_)))"
   ]
  },
  {
   "cell_type": "markdown",
   "metadata": {},
   "source": [
    "# Decision Tree Model"
   ]
  },
  {
   "cell_type": "code",
   "execution_count": 109,
   "metadata": {},
   "outputs": [],
   "source": [
    "tree = DecisionTreeClassifier(max_depth=5)"
   ]
  },
  {
   "cell_type": "code",
   "execution_count": 110,
   "metadata": {},
   "outputs": [
    {
     "name": "stdout",
     "output_type": "stream",
     "text": [
      "[i] Timer started at05/06/20 - 05:33 PM\n",
      "[i] Timer ended at 05/06/20 - 05:33 PM\n",
      "- Total time = 0:00:00.006959\n"
     ]
    }
   ],
   "source": [
    "timer = Timer()\n",
    "timer.start()\n",
    "\n",
    "tree.fit(X_train,y_train)\n",
    "\n",
    "timer.stop()"
   ]
  },
  {
   "cell_type": "markdown",
   "metadata": {},
   "source": [
    "# Decision Tree Results"
   ]
  },
  {
   "cell_type": "code",
   "execution_count": 111,
   "metadata": {
    "scrolled": false
   },
   "outputs": [
    {
     "name": "stdout",
     "output_type": "stream",
     "text": [
      "Train score= 0.72\n",
      "Test score= 0.6034985422740525\n",
      "              precision    recall  f1-score   support\n",
      "\n",
      "           0       0.59      0.67      0.63       173\n",
      "           1       0.61      0.54      0.57       170\n",
      "\n",
      "    accuracy                           0.60       343\n",
      "   macro avg       0.60      0.60      0.60       343\n",
      "weighted avg       0.60      0.60      0.60       343\n",
      "\n"
     ]
    },
    {
     "data": {
      "image/png": "[encoded data removed]",
      "text/plain": [
       "<Figure size 720x288 with 3 Axes>"
      ]
     },
     "metadata": {},
     "output_type": "display_data"
    },
    {
     "name": "stdout",
     "output_type": "stream",
     "text": [
      "Impressions             0.609536\n",
      "Spent                   0.088072\n",
      "age_number              0.067317\n",
      "Clicks                  0.059949\n",
      "interest_65             0.045151\n",
      "interest_10             0.042864\n",
      "interest_32             0.023156\n",
      "interest_105            0.017935\n",
      "interest_22             0.017497\n",
      "interest_29             0.014413\n",
      "interest_30             0.014110\n",
      "interest_21             0.000000\n",
      "interest_20             0.000000\n",
      "interest_19             0.000000\n",
      "interest_18             0.000000\n",
      "interest_16             0.000000\n",
      "interest_7              0.000000\n",
      "interest_15             0.000000\n",
      "interest_24             0.000000\n",
      "interest_2              0.000000\n",
      "gender_M                0.000000\n",
      "gender_F                0.000000\n",
      "xyz_campaign_id_1178    0.000000\n",
      "xyz_campaign_id_936     0.000000\n",
      "xyz_campaign_id_916     0.000000\n",
      "fb_counts               0.000000\n",
      "interest_23             0.000000\n",
      "interest_114            0.000000\n",
      "interest_25             0.000000\n",
      "interest_26             0.000000\n",
      "interest_112            0.000000\n",
      "interest_111            0.000000\n",
      "interest_110            0.000000\n",
      "interest_109            0.000000\n",
      "interest_108            0.000000\n",
      "interest_107            0.000000\n",
      "interest_106            0.000000\n",
      "interest_104            0.000000\n",
      "interest_103            0.000000\n",
      "interest_102            0.000000\n",
      "interest_101            0.000000\n",
      "interest_100            0.000000\n",
      "interest_66             0.000000\n",
      "interest_64             0.000000\n",
      "interest_63             0.000000\n",
      "interest_36             0.000000\n",
      "interest_31             0.000000\n",
      "interest_28             0.000000\n",
      "interest_113            0.000000\n",
      "interest_27             0.000000\n",
      "Name: Importance, dtype: float64\n"
     ]
    }
   ],
   "source": [
    "y_hat_test = tree.predict(X_test)\n",
    "\n",
    "evaluate_model(y_train, y_test, y_hat_test,X_train, X_test, tree)"
   ]
  },
  {
   "cell_type": "markdown",
   "metadata": {},
   "source": [
    "First Decision Tree model shows mediocre results. The model scored 73% on the training data and 66% on the testing data. While the scores indicate that the model did not overfit, it only performed slightly better than 50%. It did a descent job predicting true False (79%) however it fell short in predicting true Positive (54%). The most influenctial predictor by far is Total Conversion."
   ]
  },
  {
   "cell_type": "code",
   "execution_count": 112,
   "metadata": {},
   "outputs": [
    {
     "name": "stdout",
     "output_type": "stream",
     "text": [
      "[i] Tree saved as Tree.png\n"
     ]
    }
   ],
   "source": [
    "visualize_tree(tree,feature_names=X_train.columns,save_filename='Tree')"
   ]
  },
  {
   "cell_type": "markdown",
   "metadata": {},
   "source": [
    "# Grid Search CV Model"
   ]
  },
  {
   "cell_type": "code",
   "execution_count": 113,
   "metadata": {},
   "outputs": [],
   "source": [
    "tree = DecisionTreeClassifier()\n",
    "# Set up param grid\n",
    "param_grid = {'criterion':['gini','entropy'],\n",
    "             'max_depth':[None, 5, 3, 10],\n",
    "             'max_features':['auto','sqrt',3,5,10,30,70],\n",
    "              'min_samples_leaf': [1,2,3]}\n",
    "\n",
    "grid_clf = GridSearchCV(tree,param_grid)# scoring='recall')"
   ]
  },
  {
   "cell_type": "code",
   "execution_count": 114,
   "metadata": {},
   "outputs": [
    {
     "name": "stdout",
     "output_type": "stream",
     "text": [
      "[i] Timer started at05/06/20 - 05:33 PM\n",
      "[i] Timer ended at 05/06/20 - 05:33 PM\n",
      "- Total time = 0:00:04.657207\n"
     ]
    },
    {
     "data": {
      "text/plain": [
       "{'criterion': 'entropy',\n",
       " 'max_depth': 3,\n",
       " 'max_features': 'sqrt',\n",
       " 'min_samples_leaf': 1}"
      ]
     },
     "execution_count": 114,
     "metadata": {},
     "output_type": "execute_result"
    }
   ],
   "source": [
    "timer = Timer()\n",
    "timer.start()\n",
    "\n",
    "grid_clf.fit(X_train,y_train)\n",
    "\n",
    "timer.stop()\n",
    "grid_clf.best_params_"
   ]
  },
  {
   "cell_type": "code",
   "execution_count": 115,
   "metadata": {},
   "outputs": [
    {
     "data": {
      "text/plain": [
       "DecisionTreeClassifier(ccp_alpha=0.0, class_weight=None, criterion='entropy',\n",
       "                       max_depth=3, max_features='sqrt', max_leaf_nodes=None,\n",
       "                       min_impurity_decrease=0.0, min_impurity_split=None,\n",
       "                       min_samples_leaf=1, min_samples_split=2,\n",
       "                       min_weight_fraction_leaf=0.0, presort='deprecated',\n",
       "                       random_state=None, splitter='best')"
      ]
     },
     "execution_count": 115,
     "metadata": {},
     "output_type": "execute_result"
    }
   ],
   "source": [
    "# Create a tree with the gridsearch's best params\n",
    "best_tree = DecisionTreeClassifier(**grid_clf.best_params_)\n",
    "best_tree.fit(X_train,y_train)"
   ]
  },
  {
   "cell_type": "markdown",
   "metadata": {},
   "source": [
    "# Grid Search CV Results"
   ]
  },
  {
   "cell_type": "code",
   "execution_count": 116,
   "metadata": {
    "scrolled": false
   },
   "outputs": [
    {
     "name": "stdout",
     "output_type": "stream",
     "text": [
      "Train score= 0.65625\n",
      "Test score= 0.6559766763848397\n",
      "              precision    recall  f1-score   support\n",
      "\n",
      "           0       0.64      0.71      0.68       173\n",
      "           1       0.67      0.60      0.63       170\n",
      "\n",
      "    accuracy                           0.66       343\n",
      "   macro avg       0.66      0.66      0.65       343\n",
      "weighted avg       0.66      0.66      0.65       343\n",
      "\n"
     ]
    },
    {
     "data": {
      "image/png": "[encoded data removed]",
      "text/plain": [
       "<Figure size 720x288 with 3 Axes>"
      ]
     },
     "metadata": {},
     "output_type": "display_data"
    },
    {
     "name": "stdout",
     "output_type": "stream",
     "text": [
      "Impressions             0.527427\n",
      "xyz_campaign_id_936     0.348366\n",
      "interest_10             0.056473\n",
      "Clicks                  0.054516\n",
      "interest_27             0.013218\n",
      "interest_109            0.000000\n",
      "interest_24             0.000000\n",
      "interest_22             0.000000\n",
      "interest_21             0.000000\n",
      "interest_20             0.000000\n",
      "interest_19             0.000000\n",
      "interest_18             0.000000\n",
      "interest_16             0.000000\n",
      "interest_15             0.000000\n",
      "interest_110            0.000000\n",
      "interest_7              0.000000\n",
      "interest_2              0.000000\n",
      "gender_M                0.000000\n",
      "gender_F                0.000000\n",
      "xyz_campaign_id_1178    0.000000\n",
      "interest_111            0.000000\n",
      "xyz_campaign_id_916     0.000000\n",
      "age_number              0.000000\n",
      "fb_counts               0.000000\n",
      "Spent                   0.000000\n",
      "interest_112            0.000000\n",
      "interest_23             0.000000\n",
      "interest_25             0.000000\n",
      "interest_108            0.000000\n",
      "interest_26             0.000000\n",
      "interest_107            0.000000\n",
      "interest_106            0.000000\n",
      "interest_105            0.000000\n",
      "interest_104            0.000000\n",
      "interest_103            0.000000\n",
      "interest_102            0.000000\n",
      "interest_101            0.000000\n",
      "interest_100            0.000000\n",
      "interest_66             0.000000\n",
      "interest_65             0.000000\n",
      "interest_64             0.000000\n",
      "interest_63             0.000000\n",
      "interest_36             0.000000\n",
      "interest_32             0.000000\n",
      "interest_31             0.000000\n",
      "interest_30             0.000000\n",
      "interest_29             0.000000\n",
      "interest_28             0.000000\n",
      "interest_113            0.000000\n",
      "interest_114            0.000000\n",
      "Name: Importance, dtype: float64\n"
     ]
    }
   ],
   "source": [
    "y_hat_test = best_tree.predict(X_test)\n",
    "\n",
    "evaluate_model(y_train, y_test,y_hat_test,X_train, X_test, best_tree)"
   ]
  },
  {
   "cell_type": "markdown",
   "metadata": {},
   "source": [
    "Grid Search CV on a Decision Tree model had very similar results to the plain Decision Tree model. The results were the same with the exception of being a couple of percentage points higher in all categories. The Grid Search model was more efficient; using only 5 predictors and producing better results."
   ]
  },
  {
   "cell_type": "markdown",
   "metadata": {},
   "source": [
    "# Random Forest Model"
   ]
  },
  {
   "cell_type": "code",
   "execution_count": 123,
   "metadata": {
    "scrolled": false
   },
   "outputs": [
    {
     "name": "stdout",
     "output_type": "stream",
     "text": [
      "[i] Timer started at05/06/20 - 05:40 PM\n",
      "[i] Timer ended at 05/06/20 - 05:40 PM\n",
      "- Total time = 0:00:00.302949\n"
     ]
    }
   ],
   "source": [
    "timer = Timer()\n",
    "timer.start()\n",
    "\n",
    "grid_clf.best_params_\n",
    "\n",
    "rf = RandomForestClassifier( )\n",
    "\n",
    "rf.fit(X_train, y_train)\n",
    "\n",
    "timer.stop()"
   ]
  },
  {
   "cell_type": "markdown",
   "metadata": {},
   "source": [
    "# Random Forest Results"
   ]
  },
  {
   "cell_type": "code",
   "execution_count": 124,
   "metadata": {},
   "outputs": [
    {
     "name": "stdout",
     "output_type": "stream",
     "text": [
      "Train score= 1.0\n",
      "Test score= 0.5714285714285714\n",
      "              precision    recall  f1-score   support\n",
      "\n",
      "           0       0.58      0.57      0.57       173\n",
      "           1       0.57      0.58      0.57       170\n",
      "\n",
      "    accuracy                           0.57       343\n",
      "   macro avg       0.57      0.57      0.57       343\n",
      "weighted avg       0.57      0.57      0.57       343\n",
      "\n"
     ]
    },
    {
     "data": {
      "image/png": "[encoded data removed]",
      "text/plain": [
       "<Figure size 720x288 with 3 Axes>"
      ]
     },
     "metadata": {},
     "output_type": "display_data"
    },
    {
     "name": "stdout",
     "output_type": "stream",
     "text": [
      "Impressions             0.227738\n",
      "Spent                   0.171613\n",
      "Clicks                  0.122597\n",
      "age_number              0.068390\n",
      "fb_counts               0.058879\n",
      "gender_F                0.017996\n",
      "gender_M                0.017996\n",
      "interest_27             0.017227\n",
      "xyz_campaign_id_1178    0.016894\n",
      "xyz_campaign_id_936     0.015431\n",
      "interest_10             0.015256\n",
      "interest_32             0.013686\n",
      "interest_22             0.013349\n",
      "interest_64             0.012698\n",
      "interest_15             0.012253\n",
      "interest_29             0.012153\n",
      "interest_16             0.012117\n",
      "interest_28             0.011933\n",
      "interest_63             0.010029\n",
      "interest_18             0.009857\n",
      "interest_65             0.009813\n",
      "interest_23             0.009392\n",
      "interest_20             0.009257\n",
      "interest_26             0.009175\n",
      "interest_31             0.008997\n",
      "interest_21             0.008569\n",
      "interest_7              0.008258\n",
      "interest_2              0.007162\n",
      "interest_25             0.007026\n",
      "xyz_campaign_id_916     0.006819\n",
      "interest_30             0.006105\n",
      "interest_24             0.005997\n",
      "interest_105            0.005737\n",
      "interest_19             0.005465\n",
      "interest_36             0.005401\n",
      "interest_110            0.003599\n",
      "interest_103            0.003385\n",
      "interest_66             0.003020\n",
      "interest_102            0.002994\n",
      "interest_112            0.002861\n",
      "interest_109            0.001874\n",
      "interest_114            0.001863\n",
      "interest_108            0.001577\n",
      "interest_104            0.001442\n",
      "interest_100            0.001435\n",
      "interest_101            0.001337\n",
      "interest_106            0.001061\n",
      "interest_113            0.000973\n",
      "interest_107            0.000751\n",
      "interest_111            0.000565\n",
      "Name: Importance, dtype: float64\n"
     ]
    }
   ],
   "source": [
    "y_hat_test = rf.predict(X_test)\n",
    "\n",
    "evaluate_model(y_train, y_test,y_hat_test,X_train, X_test, rf)"
   ]
  },
  {
   "cell_type": "markdown",
   "metadata": {},
   "source": [
    "# RF Grid Search"
   ]
  },
  {
   "cell_type": "code",
   "execution_count": 125,
   "metadata": {},
   "outputs": [
    {
     "name": "stdout",
     "output_type": "stream",
     "text": [
      "[i] Timer started at05/06/20 - 05:40 PM\n",
      "[i] Timer ended at 05/06/20 - 05:43 PM\n",
      "- Total time = 0:02:42.929305\n"
     ]
    },
    {
     "data": {
      "text/plain": [
       "{'criterion': 'entropy',\n",
       " 'max_depth': 5,\n",
       " 'max_features': 10,\n",
       " 'min_samples_leaf': 2}"
      ]
     },
     "execution_count": 125,
     "metadata": {},
     "output_type": "execute_result"
    }
   ],
   "source": [
    "tree = RandomForestClassifier()\n",
    "# Set up param grid\n",
    "param_grid = {'criterion':['gini','entropy'],\n",
    "             'max_depth':[None, 5, 3, 10],\n",
    "             'max_features':['auto','sqrt',3,5,10,30,70],\n",
    "              'min_samples_leaf': [1,2,3]}\n",
    "\n",
    "grid_clf = GridSearchCV(tree,param_grid)\n",
    "\n",
    "timer = Timer()\n",
    "timer.start()\n",
    "\n",
    "grid_clf.fit(X_train,y_train)\n",
    "\n",
    "timer.stop()\n",
    "grid_clf.best_params_"
   ]
  },
  {
   "cell_type": "code",
   "execution_count": 126,
   "metadata": {},
   "outputs": [
    {
     "name": "stdout",
     "output_type": "stream",
     "text": [
      "[i] Timer started at05/06/20 - 05:43 PM\n",
      "[i] Timer ended at 05/06/20 - 05:43 PM\n",
      "- Total time = 0:00:00.297051\n"
     ]
    }
   ],
   "source": [
    "# Create a tree with the gridsearch's best params\n",
    "\n",
    "timer = Timer()\n",
    "timer.start()\n",
    "\n",
    "best_tree = RandomForestClassifier(**grid_clf.best_params_)\n",
    "best_tree.fit(X_train,y_train)\n",
    "\n",
    "timer.stop()"
   ]
  },
  {
   "cell_type": "markdown",
   "metadata": {},
   "source": [
    "# RF Grid Search Results"
   ]
  },
  {
   "cell_type": "code",
   "execution_count": 127,
   "metadata": {},
   "outputs": [
    {
     "name": "stdout",
     "output_type": "stream",
     "text": [
      "Train score= 0.68625\n",
      "Test score= 0.6676384839650146\n",
      "              precision    recall  f1-score   support\n",
      "\n",
      "           0       0.65      0.75      0.70       173\n",
      "           1       0.70      0.58      0.63       170\n",
      "\n",
      "    accuracy                           0.67       343\n",
      "   macro avg       0.67      0.67      0.66       343\n",
      "weighted avg       0.67      0.67      0.67       343\n",
      "\n"
     ]
    },
    {
     "data": {
      "image/png": "[encoded data removed]",
      "text/plain": [
       "<Figure size 720x288 with 3 Axes>"
      ]
     },
     "metadata": {},
     "output_type": "display_data"
    },
    {
     "name": "stdout",
     "output_type": "stream",
     "text": [
      "Impressions             0.278756\n",
      "Spent                   0.211553\n",
      "Clicks                  0.124889\n",
      "age_number              0.062198\n",
      "fb_counts               0.037657\n",
      "xyz_campaign_id_1178    0.031130\n",
      "xyz_campaign_id_936     0.025867\n",
      "interest_23             0.022387\n",
      "interest_27             0.021239\n",
      "interest_65             0.018734\n",
      "gender_F                0.017495\n",
      "interest_29             0.013512\n",
      "gender_M                0.012436\n",
      "interest_22             0.011997\n",
      "interest_32             0.011360\n",
      "interest_10             0.010653\n",
      "interest_20             0.006807\n",
      "interest_64             0.006107\n",
      "interest_16             0.005810\n",
      "interest_28             0.004992\n",
      "interest_7              0.004576\n",
      "interest_2              0.004068\n",
      "interest_30             0.003924\n",
      "interest_15             0.003907\n",
      "interest_31             0.003661\n",
      "interest_26             0.003558\n",
      "interest_36             0.003549\n",
      "interest_105            0.003469\n",
      "interest_18             0.003436\n",
      "interest_25             0.003285\n",
      "interest_19             0.003185\n",
      "interest_63             0.002940\n",
      "interest_102            0.002786\n",
      "interest_110            0.002412\n",
      "interest_21             0.002375\n",
      "interest_104            0.001777\n",
      "interest_66             0.001703\n",
      "interest_108            0.001369\n",
      "interest_107            0.001331\n",
      "interest_106            0.001302\n",
      "xyz_campaign_id_916     0.001248\n",
      "interest_100            0.001183\n",
      "interest_24             0.001058\n",
      "interest_101            0.001035\n",
      "interest_114            0.000453\n",
      "interest_113            0.000385\n",
      "interest_109            0.000247\n",
      "interest_103            0.000198\n",
      "interest_111            0.000000\n",
      "interest_112            0.000000\n",
      "Name: Importance, dtype: float64\n"
     ]
    }
   ],
   "source": [
    "y_hat_test = best_tree.predict(X_test)\n",
    "\n",
    "evaluate_model(y_train, y_test, y_hat_test,X_train, X_test,best_tree)"
   ]
  },
  {
   "cell_type": "markdown",
   "metadata": {},
   "source": [
    "# XGBOOST Model"
   ]
  },
  {
   "cell_type": "code",
   "execution_count": 135,
   "metadata": {
    "scrolled": false
   },
   "outputs": [
    {
     "name": "stdout",
     "output_type": "stream",
     "text": [
      "[i] Timer started at05/06/20 - 05:49 PM\n",
      "[i] Timer ended at 05/06/20 - 05:49 PM\n",
      "- Total time = 0:00:00.148088\n"
     ]
    }
   ],
   "source": [
    "timer = Timer()\n",
    "timer.start()\n",
    "\n",
    "xgb_rf = XGBRFClassifier()\n",
    "xgb_rf.fit(X_train, y_train)\n",
    "\n",
    "timer.stop() "
   ]
  },
  {
   "cell_type": "markdown",
   "metadata": {},
   "source": [
    "# XGBOOST Results"
   ]
  },
  {
   "cell_type": "code",
   "execution_count": 136,
   "metadata": {},
   "outputs": [
    {
     "name": "stdout",
     "output_type": "stream",
     "text": [
      "Train score= 0.67875\n",
      "Test score= 0.6384839650145773\n",
      "              precision    recall  f1-score   support\n",
      "\n",
      "           0       0.63      0.70      0.66       173\n",
      "           1       0.65      0.58      0.61       170\n",
      "\n",
      "    accuracy                           0.64       343\n",
      "   macro avg       0.64      0.64      0.64       343\n",
      "weighted avg       0.64      0.64      0.64       343\n",
      "\n"
     ]
    },
    {
     "data": {
      "image/png": "[encoded data removed]",
      "text/plain": [
       "<Figure size 720x288 with 3 Axes>"
      ]
     },
     "metadata": {},
     "output_type": "display_data"
    },
    {
     "name": "stdout",
     "output_type": "stream",
     "text": [
      "Impressions             0.179873\n",
      "xyz_campaign_id_1178    0.173972\n",
      "Spent                   0.106499\n",
      "Clicks                  0.098449\n",
      "xyz_campaign_id_936     0.052848\n",
      "age_number              0.048483\n",
      "interest_65             0.044111\n",
      "interest_10             0.040594\n",
      "interest_27             0.036039\n",
      "interest_31             0.031171\n",
      "interest_32             0.029976\n",
      "interest_23             0.029951\n",
      "interest_26             0.028617\n",
      "gender_F                0.028384\n",
      "fb_counts               0.021440\n",
      "interest_22             0.018896\n",
      "interest_2              0.017794\n",
      "interest_15             0.008353\n",
      "interest_28             0.004551\n",
      "interest_7              0.000000\n",
      "interest_18             0.000000\n",
      "interest_16             0.000000\n",
      "interest_107            0.000000\n",
      "interest_111            0.000000\n",
      "interest_112            0.000000\n",
      "interest_20             0.000000\n",
      "gender_M                0.000000\n",
      "interest_108            0.000000\n",
      "interest_109            0.000000\n",
      "xyz_campaign_id_916     0.000000\n",
      "interest_110            0.000000\n",
      "interest_19             0.000000\n",
      "interest_105            0.000000\n",
      "interest_21             0.000000\n",
      "interest_64             0.000000\n",
      "interest_103            0.000000\n",
      "interest_102            0.000000\n",
      "interest_101            0.000000\n",
      "interest_100            0.000000\n",
      "interest_66             0.000000\n",
      "interest_106            0.000000\n",
      "interest_63             0.000000\n",
      "interest_104            0.000000\n",
      "interest_36             0.000000\n",
      "interest_30             0.000000\n",
      "interest_29             0.000000\n",
      "interest_113            0.000000\n",
      "interest_25             0.000000\n",
      "interest_24             0.000000\n",
      "interest_114            0.000000\n",
      "Name: Importance, dtype: float32\n"
     ]
    }
   ],
   "source": [
    "y_hat_test = xgb_rf.predict(X_test)\n",
    "\n",
    "evaluate_model(y_train, y_test,y_hat_test,X_train, X_test,xgb_rf)"
   ]
  },
  {
   "cell_type": "markdown",
   "metadata": {},
   "source": [
    "# XGBOOST RF Model"
   ]
  },
  {
   "cell_type": "code",
   "execution_count": 137,
   "metadata": {},
   "outputs": [
    {
     "name": "stdout",
     "output_type": "stream",
     "text": [
      "[i] Timer started at05/06/20 - 05:50 PM\n",
      "[i] Timer ended at 05/06/20 - 05:50 PM\n",
      "- Total time = 0:00:00.300487\n"
     ]
    }
   ],
   "source": [
    "xgbrf_grid = {'colsample_bynode': 0.8, 'learning_rate': 1,\n",
    "              'max_depth': 5, 'num_parallel_tree': 100, \n",
    "              'objective': 'binary:logistic', 'subsample': 0.8}\n",
    "\n",
    "timer = Timer()\n",
    "timer.start()\n",
    "\n",
    "xrf_clf = XGBRFClassifier(**xgbrf_grid)\n",
    "xrf_clf.fit(X_train,y_train)\n",
    "\n",
    "timer.stop()"
   ]
  },
  {
   "cell_type": "markdown",
   "metadata": {},
   "source": [
    "# XGBOOST RF Results"
   ]
  },
  {
   "cell_type": "code",
   "execution_count": 138,
   "metadata": {},
   "outputs": [
    {
     "name": "stdout",
     "output_type": "stream",
     "text": [
      "Train score= 0.7125\n",
      "Test score= 0.6384839650145773\n",
      "              precision    recall  f1-score   support\n",
      "\n",
      "           0       0.63      0.70      0.66       173\n",
      "           1       0.65      0.58      0.61       170\n",
      "\n",
      "    accuracy                           0.64       343\n",
      "   macro avg       0.64      0.64      0.64       343\n",
      "weighted avg       0.64      0.64      0.64       343\n",
      "\n"
     ]
    },
    {
     "data": {
      "image/png": "[encoded data removed]",
      "text/plain": [
       "<Figure size 720x288 with 3 Axes>"
      ]
     },
     "metadata": {},
     "output_type": "display_data"
    },
    {
     "name": "stdout",
     "output_type": "stream",
     "text": [
      "xyz_campaign_id_1178    0.134039\n",
      "Impressions             0.108605\n",
      "Spent                   0.057084\n",
      "interest_65             0.052365\n",
      "interest_27             0.043213\n",
      "interest_10             0.041064\n",
      "age_number              0.040658\n",
      "Clicks                  0.040490\n",
      "interest_21             0.036711\n",
      "interest_23             0.035855\n",
      "interest_26             0.034565\n",
      "interest_32             0.033020\n",
      "interest_22             0.032950\n",
      "xyz_campaign_id_936     0.030529\n",
      "interest_29             0.027416\n",
      "interest_31             0.026478\n",
      "interest_64             0.025975\n",
      "interest_63             0.023251\n",
      "interest_2              0.022172\n",
      "gender_F                0.018394\n",
      "interest_28             0.017343\n",
      "interest_20             0.017337\n",
      "fb_counts               0.016951\n",
      "interest_15             0.014071\n",
      "gender_M                0.013662\n",
      "xyz_campaign_id_916     0.013080\n",
      "interest_16             0.012062\n",
      "interest_18             0.011670\n",
      "interest_19             0.010825\n",
      "interest_24             0.008167\n",
      "interest_109            0.000000\n",
      "interest_111            0.000000\n",
      "interest_112            0.000000\n",
      "interest_7              0.000000\n",
      "interest_25             0.000000\n",
      "interest_108            0.000000\n",
      "interest_113            0.000000\n",
      "interest_30             0.000000\n",
      "interest_36             0.000000\n",
      "interest_110            0.000000\n",
      "interest_66             0.000000\n",
      "interest_100            0.000000\n",
      "interest_101            0.000000\n",
      "interest_102            0.000000\n",
      "interest_103            0.000000\n",
      "interest_104            0.000000\n",
      "interest_105            0.000000\n",
      "interest_106            0.000000\n",
      "interest_107            0.000000\n",
      "interest_114            0.000000\n",
      "Name: Importance, dtype: float32\n"
     ]
    }
   ],
   "source": [
    "y_hat_test = xrf_clf.predict(X_test)\n",
    "\n",
    "evaluate_model(y_train, y_test,y_hat_test,X_train, X_test,xrf_clf)"
   ]
  },
  {
   "cell_type": "code",
   "execution_count": null,
   "metadata": {},
   "outputs": [],
   "source": []
  }
 ],
 "metadata": {
  "kernelspec": {
   "display_name": "Python 3",
   "language": "python",
   "name": "python3"
  },
  "language_info": {
   "codemirror_mode": {
    "name": "ipython",
    "version": 3
   },
   "file_extension": ".py",
   "mimetype": "text/x-python",
   "name": "python",
   "nbconvert_exporter": "python",
   "pygments_lexer": "ipython3",
   "version": "3.6.9"
  },
  "toc": {
   "base_numbering": 1,
   "nav_menu": {},
   "number_sections": false,
   "sideBar": true,
   "skip_h1_title": false,
   "title_cell": "Table of Contents",
   "title_sidebar": "Contents",
   "toc_cell": false,
   "toc_position": {},
   "toc_section_display": true,
   "toc_window_display": true
  }
 },
 "nbformat": 4,
 "nbformat_minor": 2
}
