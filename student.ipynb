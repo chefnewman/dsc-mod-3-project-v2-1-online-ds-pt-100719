{
 "cells": [
  {
   "cell_type": "markdown",
   "metadata": {},
   "source": [
    "* Student name: Steve Newman\n",
    "* Student pace: part time \n",
    "* Scheduled project review date/time: Tues. May 12 12:30 pm EST\n",
    "* Instructor name: James Irving PhD\n",
    "* Blog post URL:https://medium.com/@stevenewmanphotography/classification-blog-e73e72cb8450"
   ]
  },
  {
   "cell_type": "markdown",
   "metadata": {},
   "source": [
    "# Mod 3 Project Overview"
   ]
  },
  {
   "cell_type": "markdown",
   "metadata": {},
   "source": [
    "The objective of this project is to leverage classification modelling concepts into an applied real-life scenario in which I have selected my own data set. My data set comes from Kaggle and is titled Sales Conversion Optimization (https://www.kaggle.com/loveall/clicks-conversion-tracking). The target in this data set is labeled Approved Conversion and has values ranging from 0 to 6. For the purposes of model simplification, Approved Conversion was transposed to the binary values of 0 and 1, representing purchased or not."
   ]
  },
  {
   "cell_type": "markdown",
   "metadata": {},
   "source": [
    "# Defintions"
   ]
  },
  {
   "cell_type": "markdown",
   "metadata": {},
   "source": [
    "The data used in this project is from an anonymous organisation’s social media ad campaign.  The file conversion_data.csv contains 1143 observations in 11 variables. Below are the descriptions of the variables.\n",
    "\n",
    "1.) ad_id: an unique ID for each ad.\n",
    "\n",
    "2.) xyzcampaignid: an ID associated with each ad campaign of XYZ company.\n",
    "\n",
    "3.) fbcampaignid: an ID associated with how Facebook tracks each campaign.\n",
    "\n",
    "4.) age: age of the person to whom the ad is shown.\n",
    "\n",
    "5.) gender: gender of the person to whim the add is shown\n",
    "\n",
    "6.) interest: a code specifying the category to which the person’s interest belongs (interests are as mentioned in the person’s Facebook public profile).\n",
    "\n",
    "7.) Impressions: the number of times the ad was shown.\n",
    "\n",
    "8.) Clicks: number of clicks on for that ad.\n",
    "\n",
    "9.) Spent: Amount paid by company xyz to Facebook, to show that ad.\n",
    "\n",
    "10.) Total conversion: Total number of people who enquired about the product after seeing the ad.\n",
    "\n",
    "11.) Approved conversion: Total number of people who bought the product after seeing the ad."
   ]
  },
  {
   "cell_type": "code",
   "execution_count": 535,
   "metadata": {},
   "outputs": [],
   "source": [
    "from IPython.display import clear_output\n",
    "!pip install -U fsds_100719\n",
    "clear_output()\n",
    "from fsds_100719.imports import *\n",
    "\n",
    "from sklearn.model_selection import train_test_split\n",
    "\n",
    "import sklearn.metrics as metrics\n",
    "import tzlocal\n",
    "import datetime as dt\n",
    "\n",
    "from sklearn.tree import DecisionTreeClassifier\n",
    "from sklearn.model_selection import GridSearchCV\n",
    "from sklearn.ensemble import RandomForestClassifier\n",
    "from xgboost import XGBRFClassifier,XGBClassifier\n",
    "\n",
    "import warnings\n",
    "warnings.filterwarnings('ignore')\n",
    "\n",
    "plt.style.use('ggplot')\n"
   ]
  },
  {
   "cell_type": "markdown",
   "metadata": {},
   "source": [
    "# Explored Data Set"
   ]
  },
  {
   "cell_type": "code",
   "execution_count": 536,
   "metadata": {},
   "outputs": [
    {
     "data": {
      "text/html": [
       "<div>\n",
       "<style scoped>\n",
       "    .dataframe tbody tr th:only-of-type {\n",
       "        vertical-align: middle;\n",
       "    }\n",
       "\n",
       "    .dataframe tbody tr th {\n",
       "        vertical-align: top;\n",
       "    }\n",
       "\n",
       "    .dataframe thead th {\n",
       "        text-align: right;\n",
       "    }\n",
       "</style>\n",
       "<table border=\"1\" class=\"dataframe\">\n",
       "  <thead>\n",
       "    <tr style=\"text-align: right;\">\n",
       "      <th></th>\n",
       "      <th>ad_id</th>\n",
       "      <th>xyz_campaign_id</th>\n",
       "      <th>fb_campaign_id</th>\n",
       "      <th>age</th>\n",
       "      <th>gender</th>\n",
       "      <th>interest</th>\n",
       "      <th>Impressions</th>\n",
       "      <th>Clicks</th>\n",
       "      <th>Spent</th>\n",
       "      <th>Total_Conversion</th>\n",
       "      <th>Approved_Conversion</th>\n",
       "    </tr>\n",
       "  </thead>\n",
       "  <tbody>\n",
       "    <tr>\n",
       "      <td>0</td>\n",
       "      <td>708746</td>\n",
       "      <td>916</td>\n",
       "      <td>103916</td>\n",
       "      <td>30-34</td>\n",
       "      <td>M</td>\n",
       "      <td>15</td>\n",
       "      <td>7350</td>\n",
       "      <td>1</td>\n",
       "      <td>1.430000</td>\n",
       "      <td>2</td>\n",
       "      <td>1</td>\n",
       "    </tr>\n",
       "    <tr>\n",
       "      <td>1</td>\n",
       "      <td>708749</td>\n",
       "      <td>916</td>\n",
       "      <td>103917</td>\n",
       "      <td>30-34</td>\n",
       "      <td>M</td>\n",
       "      <td>16</td>\n",
       "      <td>17861</td>\n",
       "      <td>2</td>\n",
       "      <td>1.820000</td>\n",
       "      <td>2</td>\n",
       "      <td>0</td>\n",
       "    </tr>\n",
       "    <tr>\n",
       "      <td>2</td>\n",
       "      <td>708771</td>\n",
       "      <td>916</td>\n",
       "      <td>103920</td>\n",
       "      <td>30-34</td>\n",
       "      <td>M</td>\n",
       "      <td>20</td>\n",
       "      <td>693</td>\n",
       "      <td>0</td>\n",
       "      <td>0.000000</td>\n",
       "      <td>1</td>\n",
       "      <td>0</td>\n",
       "    </tr>\n",
       "    <tr>\n",
       "      <td>3</td>\n",
       "      <td>708815</td>\n",
       "      <td>916</td>\n",
       "      <td>103928</td>\n",
       "      <td>30-34</td>\n",
       "      <td>M</td>\n",
       "      <td>28</td>\n",
       "      <td>4259</td>\n",
       "      <td>1</td>\n",
       "      <td>1.250000</td>\n",
       "      <td>1</td>\n",
       "      <td>0</td>\n",
       "    </tr>\n",
       "    <tr>\n",
       "      <td>4</td>\n",
       "      <td>708818</td>\n",
       "      <td>916</td>\n",
       "      <td>103928</td>\n",
       "      <td>30-34</td>\n",
       "      <td>M</td>\n",
       "      <td>28</td>\n",
       "      <td>4133</td>\n",
       "      <td>1</td>\n",
       "      <td>1.290000</td>\n",
       "      <td>1</td>\n",
       "      <td>1</td>\n",
       "    </tr>\n",
       "    <tr>\n",
       "      <td>...</td>\n",
       "      <td>...</td>\n",
       "      <td>...</td>\n",
       "      <td>...</td>\n",
       "      <td>...</td>\n",
       "      <td>...</td>\n",
       "      <td>...</td>\n",
       "      <td>...</td>\n",
       "      <td>...</td>\n",
       "      <td>...</td>\n",
       "      <td>...</td>\n",
       "      <td>...</td>\n",
       "    </tr>\n",
       "    <tr>\n",
       "      <td>1138</td>\n",
       "      <td>1314410</td>\n",
       "      <td>1178</td>\n",
       "      <td>179977</td>\n",
       "      <td>45-49</td>\n",
       "      <td>F</td>\n",
       "      <td>109</td>\n",
       "      <td>1129773</td>\n",
       "      <td>252</td>\n",
       "      <td>358.189997</td>\n",
       "      <td>13</td>\n",
       "      <td>2</td>\n",
       "    </tr>\n",
       "    <tr>\n",
       "      <td>1139</td>\n",
       "      <td>1314411</td>\n",
       "      <td>1178</td>\n",
       "      <td>179978</td>\n",
       "      <td>45-49</td>\n",
       "      <td>F</td>\n",
       "      <td>110</td>\n",
       "      <td>637549</td>\n",
       "      <td>120</td>\n",
       "      <td>173.880003</td>\n",
       "      <td>3</td>\n",
       "      <td>0</td>\n",
       "    </tr>\n",
       "    <tr>\n",
       "      <td>1140</td>\n",
       "      <td>1314412</td>\n",
       "      <td>1178</td>\n",
       "      <td>179979</td>\n",
       "      <td>45-49</td>\n",
       "      <td>F</td>\n",
       "      <td>111</td>\n",
       "      <td>151531</td>\n",
       "      <td>28</td>\n",
       "      <td>40.289999</td>\n",
       "      <td>2</td>\n",
       "      <td>0</td>\n",
       "    </tr>\n",
       "    <tr>\n",
       "      <td>1141</td>\n",
       "      <td>1314414</td>\n",
       "      <td>1178</td>\n",
       "      <td>179981</td>\n",
       "      <td>45-49</td>\n",
       "      <td>F</td>\n",
       "      <td>113</td>\n",
       "      <td>790253</td>\n",
       "      <td>135</td>\n",
       "      <td>198.710000</td>\n",
       "      <td>8</td>\n",
       "      <td>2</td>\n",
       "    </tr>\n",
       "    <tr>\n",
       "      <td>1142</td>\n",
       "      <td>1314415</td>\n",
       "      <td>1178</td>\n",
       "      <td>179982</td>\n",
       "      <td>45-49</td>\n",
       "      <td>F</td>\n",
       "      <td>114</td>\n",
       "      <td>513161</td>\n",
       "      <td>114</td>\n",
       "      <td>165.609999</td>\n",
       "      <td>5</td>\n",
       "      <td>2</td>\n",
       "    </tr>\n",
       "  </tbody>\n",
       "</table>\n",
       "<p>1143 rows × 11 columns</p>\n",
       "</div>"
      ],
      "text/plain": [
       "        ad_id  xyz_campaign_id  fb_campaign_id    age gender  interest  \\\n",
       "0      708746              916          103916  30-34      M        15   \n",
       "1      708749              916          103917  30-34      M        16   \n",
       "2      708771              916          103920  30-34      M        20   \n",
       "3      708815              916          103928  30-34      M        28   \n",
       "4      708818              916          103928  30-34      M        28   \n",
       "...       ...              ...             ...    ...    ...       ...   \n",
       "1138  1314410             1178          179977  45-49      F       109   \n",
       "1139  1314411             1178          179978  45-49      F       110   \n",
       "1140  1314412             1178          179979  45-49      F       111   \n",
       "1141  1314414             1178          179981  45-49      F       113   \n",
       "1142  1314415             1178          179982  45-49      F       114   \n",
       "\n",
       "      Impressions  Clicks       Spent  Total_Conversion  Approved_Conversion  \n",
       "0            7350       1    1.430000                 2                    1  \n",
       "1           17861       2    1.820000                 2                    0  \n",
       "2             693       0    0.000000                 1                    0  \n",
       "3            4259       1    1.250000                 1                    0  \n",
       "4            4133       1    1.290000                 1                    1  \n",
       "...           ...     ...         ...               ...                  ...  \n",
       "1138      1129773     252  358.189997                13                    2  \n",
       "1139       637549     120  173.880003                 3                    0  \n",
       "1140       151531      28   40.289999                 2                    0  \n",
       "1141       790253     135  198.710000                 8                    2  \n",
       "1142       513161     114  165.609999                 5                    2  \n",
       "\n",
       "[1143 rows x 11 columns]"
      ]
     },
     "execution_count": 536,
     "metadata": {},
     "output_type": "execute_result"
    }
   ],
   "source": [
    "df = pd.read_csv('KAG_conversion_data.csv')\n",
    "df"
   ]
  },
  {
   "cell_type": "code",
   "execution_count": 537,
   "metadata": {},
   "outputs": [
    {
     "data": {
      "text/plain": [
       "ad_id                  0\n",
       "xyz_campaign_id        0\n",
       "fb_campaign_id         0\n",
       "age                    0\n",
       "gender                 0\n",
       "interest               0\n",
       "Impressions            0\n",
       "Clicks                 0\n",
       "Spent                  0\n",
       "Total_Conversion       0\n",
       "Approved_Conversion    0\n",
       "dtype: int64"
      ]
     },
     "execution_count": 537,
     "metadata": {},
     "output_type": "execute_result"
    }
   ],
   "source": [
    "# No missing values.\n",
    "\n",
    "df.isna().sum()"
   ]
  },
  {
   "cell_type": "code",
   "execution_count": 538,
   "metadata": {},
   "outputs": [
    {
     "data": {
      "text/plain": [
       "ad_id                    int64\n",
       "xyz_campaign_id          int64\n",
       "fb_campaign_id           int64\n",
       "age                     object\n",
       "gender                  object\n",
       "interest                 int64\n",
       "Impressions              int64\n",
       "Clicks                   int64\n",
       "Spent                  float64\n",
       "Total_Conversion         int64\n",
       "Approved_Conversion      int64\n",
       "dtype: object"
      ]
     },
     "execution_count": 538,
     "metadata": {},
     "output_type": "execute_result"
    }
   ],
   "source": [
    "# Will need to convert some columns to categories.\n",
    "\n",
    "df.dtypes"
   ]
  },
  {
   "cell_type": "code",
   "execution_count": 539,
   "metadata": {},
   "outputs": [
    {
     "data": {
      "text/plain": [
       "ad_id                  1143\n",
       "xyz_campaign_id           3\n",
       "fb_campaign_id          691\n",
       "age                       4\n",
       "gender                    2\n",
       "interest                 40\n",
       "Impressions            1130\n",
       "Clicks                  183\n",
       "Spent                   869\n",
       "Total_Conversion         32\n",
       "Approved_Conversion      16\n",
       "dtype: int64"
      ]
     },
     "execution_count": 539,
     "metadata": {},
     "output_type": "execute_result"
    }
   ],
   "source": [
    "# ad_id needs to be dropped due to number of unique values.\n",
    "\n",
    "df.nunique()"
   ]
  },
  {
   "cell_type": "markdown",
   "metadata": {},
   "source": [
    "# Prepare Data for Modeling"
   ]
  },
  {
   "cell_type": "code",
   "execution_count": 540,
   "metadata": {},
   "outputs": [],
   "source": [
    "#Drop ad_id due to, too many unique values.\n",
    "\n",
    "df= df.drop(columns=['ad_id'])"
   ]
  },
  {
   "cell_type": "code",
   "execution_count": 541,
   "metadata": {},
   "outputs": [
    {
     "data": {
      "text/plain": [
       "xyz_campaign_id        0.284968\n",
       "fb_campaign_id         0.257658\n",
       "interest               0.058353\n",
       "Impressions            0.684249\n",
       "Clicks                 0.559526\n",
       "Spent                  0.593178\n",
       "Approved_Conversion    1.000000\n",
       "Name: Approved_Conversion, dtype: float64"
      ]
     },
     "execution_count": 541,
     "metadata": {},
     "output_type": "execute_result"
    }
   ],
   "source": [
    "# Check if 'Approved_Conversion' correlates with the target.\n",
    "df= df.drop(columns=['Total_Conversion'])\n",
    "df.corr().loc['Approved_Conversion']"
   ]
  },
  {
   "cell_type": "code",
   "execution_count": 542,
   "metadata": {},
   "outputs": [
    {
     "data": {
      "text/plain": [
       "1    463\n",
       "2    218\n",
       "3    153\n",
       "4    148\n",
       "5    125\n",
       "6     36\n",
       "Name: fb_counts, dtype: int64"
      ]
     },
     "execution_count": 542,
     "metadata": {},
     "output_type": "execute_result"
    }
   ],
   "source": [
    "# Convert 'fb_campaign_id' to value count number due to approximately 700 unique values.\n",
    "\n",
    "campaign_id = dict(df['fb_campaign_id'].value_counts())\n",
    "df['fb_counts'] = df['fb_campaign_id'].map(campaign_id)\n",
    "df['fb_counts'].value_counts(dropna=False)"
   ]
  },
  {
   "cell_type": "code",
   "execution_count": 543,
   "metadata": {},
   "outputs": [
    {
     "data": {
      "text/plain": [
       "{'30-34': 0, '35-39': 1, '40-44': 2, '45-49': 3}"
      ]
     },
     "execution_count": 543,
     "metadata": {},
     "output_type": "execute_result"
    }
   ],
   "source": [
    "# Encoding age groups as ordinal\n",
    "\n",
    "age_ranges = ('30-34','35-39', '40-44','45-49')\n",
    "age_codes = (0,1,2,3) \n",
    "# Zipping into Dictionary to Map onto Column\n",
    "\n",
    "age_map = dict(zip(age_ranges,age_codes))\n",
    "age_map"
   ]
  },
  {
   "cell_type": "code",
   "execution_count": 544,
   "metadata": {},
   "outputs": [
    {
     "data": {
      "text/plain": [
       "0    426\n",
       "3    259\n",
       "1    248\n",
       "2    210\n",
       "Name: age_number, dtype: int64"
      ]
     },
     "execution_count": 544,
     "metadata": {},
     "output_type": "execute_result"
    }
   ],
   "source": [
    "# Applying age_map to 'age_number' column.\n",
    "\n",
    "df['age_number'] = df['age'].map(age_map)\n",
    "df['age_number'].value_counts(dropna=False)"
   ]
  },
  {
   "cell_type": "code",
   "execution_count": 545,
   "metadata": {},
   "outputs": [
    {
     "data": {
      "text/html": [
       "<div>\n",
       "<style scoped>\n",
       "    .dataframe tbody tr th:only-of-type {\n",
       "        vertical-align: middle;\n",
       "    }\n",
       "\n",
       "    .dataframe tbody tr th {\n",
       "        vertical-align: top;\n",
       "    }\n",
       "\n",
       "    .dataframe thead th {\n",
       "        text-align: right;\n",
       "    }\n",
       "</style>\n",
       "<table border=\"1\" class=\"dataframe\">\n",
       "  <thead>\n",
       "    <tr style=\"text-align: right;\">\n",
       "      <th></th>\n",
       "      <th>xyz_campaign_id</th>\n",
       "      <th>fb_campaign_id</th>\n",
       "      <th>age</th>\n",
       "      <th>gender</th>\n",
       "      <th>interest</th>\n",
       "      <th>Impressions</th>\n",
       "      <th>Clicks</th>\n",
       "      <th>Spent</th>\n",
       "      <th>Approved_Conversion</th>\n",
       "      <th>fb_counts</th>\n",
       "      <th>age_number</th>\n",
       "    </tr>\n",
       "  </thead>\n",
       "  <tbody>\n",
       "    <tr>\n",
       "      <td>0</td>\n",
       "      <td>916</td>\n",
       "      <td>103916</td>\n",
       "      <td>30-34</td>\n",
       "      <td>M</td>\n",
       "      <td>15</td>\n",
       "      <td>7350</td>\n",
       "      <td>1</td>\n",
       "      <td>1.430000</td>\n",
       "      <td>1</td>\n",
       "      <td>1</td>\n",
       "      <td>0</td>\n",
       "    </tr>\n",
       "    <tr>\n",
       "      <td>1</td>\n",
       "      <td>916</td>\n",
       "      <td>103917</td>\n",
       "      <td>30-34</td>\n",
       "      <td>M</td>\n",
       "      <td>16</td>\n",
       "      <td>17861</td>\n",
       "      <td>2</td>\n",
       "      <td>1.820000</td>\n",
       "      <td>0</td>\n",
       "      <td>1</td>\n",
       "      <td>0</td>\n",
       "    </tr>\n",
       "    <tr>\n",
       "      <td>2</td>\n",
       "      <td>916</td>\n",
       "      <td>103920</td>\n",
       "      <td>30-34</td>\n",
       "      <td>M</td>\n",
       "      <td>20</td>\n",
       "      <td>693</td>\n",
       "      <td>0</td>\n",
       "      <td>0.000000</td>\n",
       "      <td>0</td>\n",
       "      <td>1</td>\n",
       "      <td>0</td>\n",
       "    </tr>\n",
       "    <tr>\n",
       "      <td>3</td>\n",
       "      <td>916</td>\n",
       "      <td>103928</td>\n",
       "      <td>30-34</td>\n",
       "      <td>M</td>\n",
       "      <td>28</td>\n",
       "      <td>4259</td>\n",
       "      <td>1</td>\n",
       "      <td>1.250000</td>\n",
       "      <td>0</td>\n",
       "      <td>2</td>\n",
       "      <td>0</td>\n",
       "    </tr>\n",
       "    <tr>\n",
       "      <td>4</td>\n",
       "      <td>916</td>\n",
       "      <td>103928</td>\n",
       "      <td>30-34</td>\n",
       "      <td>M</td>\n",
       "      <td>28</td>\n",
       "      <td>4133</td>\n",
       "      <td>1</td>\n",
       "      <td>1.290000</td>\n",
       "      <td>1</td>\n",
       "      <td>2</td>\n",
       "      <td>0</td>\n",
       "    </tr>\n",
       "    <tr>\n",
       "      <td>...</td>\n",
       "      <td>...</td>\n",
       "      <td>...</td>\n",
       "      <td>...</td>\n",
       "      <td>...</td>\n",
       "      <td>...</td>\n",
       "      <td>...</td>\n",
       "      <td>...</td>\n",
       "      <td>...</td>\n",
       "      <td>...</td>\n",
       "      <td>...</td>\n",
       "      <td>...</td>\n",
       "    </tr>\n",
       "    <tr>\n",
       "      <td>1138</td>\n",
       "      <td>1178</td>\n",
       "      <td>179977</td>\n",
       "      <td>45-49</td>\n",
       "      <td>F</td>\n",
       "      <td>109</td>\n",
       "      <td>1129773</td>\n",
       "      <td>252</td>\n",
       "      <td>358.189997</td>\n",
       "      <td>2</td>\n",
       "      <td>1</td>\n",
       "      <td>3</td>\n",
       "    </tr>\n",
       "    <tr>\n",
       "      <td>1139</td>\n",
       "      <td>1178</td>\n",
       "      <td>179978</td>\n",
       "      <td>45-49</td>\n",
       "      <td>F</td>\n",
       "      <td>110</td>\n",
       "      <td>637549</td>\n",
       "      <td>120</td>\n",
       "      <td>173.880003</td>\n",
       "      <td>0</td>\n",
       "      <td>1</td>\n",
       "      <td>3</td>\n",
       "    </tr>\n",
       "    <tr>\n",
       "      <td>1140</td>\n",
       "      <td>1178</td>\n",
       "      <td>179979</td>\n",
       "      <td>45-49</td>\n",
       "      <td>F</td>\n",
       "      <td>111</td>\n",
       "      <td>151531</td>\n",
       "      <td>28</td>\n",
       "      <td>40.289999</td>\n",
       "      <td>0</td>\n",
       "      <td>1</td>\n",
       "      <td>3</td>\n",
       "    </tr>\n",
       "    <tr>\n",
       "      <td>1141</td>\n",
       "      <td>1178</td>\n",
       "      <td>179981</td>\n",
       "      <td>45-49</td>\n",
       "      <td>F</td>\n",
       "      <td>113</td>\n",
       "      <td>790253</td>\n",
       "      <td>135</td>\n",
       "      <td>198.710000</td>\n",
       "      <td>2</td>\n",
       "      <td>1</td>\n",
       "      <td>3</td>\n",
       "    </tr>\n",
       "    <tr>\n",
       "      <td>1142</td>\n",
       "      <td>1178</td>\n",
       "      <td>179982</td>\n",
       "      <td>45-49</td>\n",
       "      <td>F</td>\n",
       "      <td>114</td>\n",
       "      <td>513161</td>\n",
       "      <td>114</td>\n",
       "      <td>165.609999</td>\n",
       "      <td>2</td>\n",
       "      <td>1</td>\n",
       "      <td>3</td>\n",
       "    </tr>\n",
       "  </tbody>\n",
       "</table>\n",
       "<p>1143 rows × 11 columns</p>\n",
       "</div>"
      ],
      "text/plain": [
       "      xyz_campaign_id  fb_campaign_id    age gender  interest  Impressions  \\\n",
       "0                 916          103916  30-34      M        15         7350   \n",
       "1                 916          103917  30-34      M        16        17861   \n",
       "2                 916          103920  30-34      M        20          693   \n",
       "3                 916          103928  30-34      M        28         4259   \n",
       "4                 916          103928  30-34      M        28         4133   \n",
       "...               ...             ...    ...    ...       ...          ...   \n",
       "1138             1178          179977  45-49      F       109      1129773   \n",
       "1139             1178          179978  45-49      F       110       637549   \n",
       "1140             1178          179979  45-49      F       111       151531   \n",
       "1141             1178          179981  45-49      F       113       790253   \n",
       "1142             1178          179982  45-49      F       114       513161   \n",
       "\n",
       "      Clicks       Spent  Approved_Conversion  fb_counts  age_number  \n",
       "0          1    1.430000                    1          1           0  \n",
       "1          2    1.820000                    0          1           0  \n",
       "2          0    0.000000                    0          1           0  \n",
       "3          1    1.250000                    0          2           0  \n",
       "4          1    1.290000                    1          2           0  \n",
       "...      ...         ...                  ...        ...         ...  \n",
       "1138     252  358.189997                    2          1           3  \n",
       "1139     120  173.880003                    0          1           3  \n",
       "1140      28   40.289999                    0          1           3  \n",
       "1141     135  198.710000                    2          1           3  \n",
       "1142     114  165.609999                    2          1           3  \n",
       "\n",
       "[1143 rows x 11 columns]"
      ]
     },
     "execution_count": 545,
     "metadata": {},
     "output_type": "execute_result"
    }
   ],
   "source": [
    "df"
   ]
  },
  {
   "cell_type": "code",
   "execution_count": 546,
   "metadata": {},
   "outputs": [],
   "source": [
    "# Convert 'Approved_Conversion' from 1 to 6 values to 1 or 0.\n",
    "\n",
    "df['Approved_Conversion'] = df['Approved_Conversion'].astype('bool').astype('int')"
   ]
  },
  {
   "cell_type": "code",
   "execution_count": 547,
   "metadata": {},
   "outputs": [
    {
     "data": {
      "text/plain": [
       "0       1\n",
       "1       0\n",
       "2       0\n",
       "3       0\n",
       "4       1\n",
       "       ..\n",
       "1138    1\n",
       "1139    0\n",
       "1140    0\n",
       "1141    1\n",
       "1142    1\n",
       "Name: Approved_Conversion, Length: 1143, dtype: int64"
      ]
     },
     "execution_count": 547,
     "metadata": {},
     "output_type": "execute_result"
    }
   ],
   "source": [
    "df['Approved_Conversion']"
   ]
  },
  {
   "cell_type": "code",
   "execution_count": 548,
   "metadata": {},
   "outputs": [],
   "source": [
    "# Convert 'xyz_campaign_id' and 'interest' to category.\n",
    "\n",
    "to_category = ['xyz_campaign_id','interest']\n",
    "df[to_category] = df[to_category].astype('category')"
   ]
  },
  {
   "cell_type": "code",
   "execution_count": 549,
   "metadata": {},
   "outputs": [
    {
     "data": {
      "text/plain": [
       "xyz_campaign_id        category\n",
       "fb_campaign_id            int64\n",
       "age                      object\n",
       "gender                   object\n",
       "interest               category\n",
       "Impressions               int64\n",
       "Clicks                    int64\n",
       "Spent                   float64\n",
       "Approved_Conversion       int64\n",
       "fb_counts                 int64\n",
       "age_number                int64\n",
       "dtype: object"
      ]
     },
     "execution_count": 549,
     "metadata": {},
     "output_type": "execute_result"
    }
   ],
   "source": [
    "df.dtypes"
   ]
  },
  {
   "cell_type": "code",
   "execution_count": 550,
   "metadata": {},
   "outputs": [],
   "source": [
    "# Drop 'fb_campaign_id' and 'age' due to them being transformed into new columns.\n",
    "\n",
    "df= df.drop(columns=['fb_campaign_id','age'])"
   ]
  },
  {
   "cell_type": "code",
   "execution_count": 479,
   "metadata": {},
   "outputs": [
    {
     "data": {
      "text/html": [
       "<div>\n",
       "<style scoped>\n",
       "    .dataframe tbody tr th:only-of-type {\n",
       "        vertical-align: middle;\n",
       "    }\n",
       "\n",
       "    .dataframe tbody tr th {\n",
       "        vertical-align: top;\n",
       "    }\n",
       "\n",
       "    .dataframe thead th {\n",
       "        text-align: right;\n",
       "    }\n",
       "</style>\n",
       "<table border=\"1\" class=\"dataframe\">\n",
       "  <thead>\n",
       "    <tr style=\"text-align: right;\">\n",
       "      <th></th>\n",
       "      <th>xyz_campaign_id</th>\n",
       "      <th>gender</th>\n",
       "      <th>interest</th>\n",
       "      <th>Impressions</th>\n",
       "      <th>Clicks</th>\n",
       "      <th>Spent</th>\n",
       "      <th>Approved_Conversion</th>\n",
       "      <th>fb_counts</th>\n",
       "      <th>age_number</th>\n",
       "    </tr>\n",
       "  </thead>\n",
       "  <tbody>\n",
       "    <tr>\n",
       "      <td>0</td>\n",
       "      <td>916</td>\n",
       "      <td>M</td>\n",
       "      <td>15</td>\n",
       "      <td>7350</td>\n",
       "      <td>1</td>\n",
       "      <td>1.430000</td>\n",
       "      <td>1</td>\n",
       "      <td>1</td>\n",
       "      <td>0</td>\n",
       "    </tr>\n",
       "    <tr>\n",
       "      <td>1</td>\n",
       "      <td>916</td>\n",
       "      <td>M</td>\n",
       "      <td>16</td>\n",
       "      <td>17861</td>\n",
       "      <td>2</td>\n",
       "      <td>1.820000</td>\n",
       "      <td>0</td>\n",
       "      <td>1</td>\n",
       "      <td>0</td>\n",
       "    </tr>\n",
       "    <tr>\n",
       "      <td>2</td>\n",
       "      <td>916</td>\n",
       "      <td>M</td>\n",
       "      <td>20</td>\n",
       "      <td>693</td>\n",
       "      <td>0</td>\n",
       "      <td>0.000000</td>\n",
       "      <td>0</td>\n",
       "      <td>1</td>\n",
       "      <td>0</td>\n",
       "    </tr>\n",
       "    <tr>\n",
       "      <td>3</td>\n",
       "      <td>916</td>\n",
       "      <td>M</td>\n",
       "      <td>28</td>\n",
       "      <td>4259</td>\n",
       "      <td>1</td>\n",
       "      <td>1.250000</td>\n",
       "      <td>0</td>\n",
       "      <td>2</td>\n",
       "      <td>0</td>\n",
       "    </tr>\n",
       "    <tr>\n",
       "      <td>4</td>\n",
       "      <td>916</td>\n",
       "      <td>M</td>\n",
       "      <td>28</td>\n",
       "      <td>4133</td>\n",
       "      <td>1</td>\n",
       "      <td>1.290000</td>\n",
       "      <td>1</td>\n",
       "      <td>2</td>\n",
       "      <td>0</td>\n",
       "    </tr>\n",
       "    <tr>\n",
       "      <td>...</td>\n",
       "      <td>...</td>\n",
       "      <td>...</td>\n",
       "      <td>...</td>\n",
       "      <td>...</td>\n",
       "      <td>...</td>\n",
       "      <td>...</td>\n",
       "      <td>...</td>\n",
       "      <td>...</td>\n",
       "      <td>...</td>\n",
       "    </tr>\n",
       "    <tr>\n",
       "      <td>1138</td>\n",
       "      <td>1178</td>\n",
       "      <td>F</td>\n",
       "      <td>109</td>\n",
       "      <td>1129773</td>\n",
       "      <td>252</td>\n",
       "      <td>358.189997</td>\n",
       "      <td>1</td>\n",
       "      <td>1</td>\n",
       "      <td>3</td>\n",
       "    </tr>\n",
       "    <tr>\n",
       "      <td>1139</td>\n",
       "      <td>1178</td>\n",
       "      <td>F</td>\n",
       "      <td>110</td>\n",
       "      <td>637549</td>\n",
       "      <td>120</td>\n",
       "      <td>173.880003</td>\n",
       "      <td>0</td>\n",
       "      <td>1</td>\n",
       "      <td>3</td>\n",
       "    </tr>\n",
       "    <tr>\n",
       "      <td>1140</td>\n",
       "      <td>1178</td>\n",
       "      <td>F</td>\n",
       "      <td>111</td>\n",
       "      <td>151531</td>\n",
       "      <td>28</td>\n",
       "      <td>40.289999</td>\n",
       "      <td>0</td>\n",
       "      <td>1</td>\n",
       "      <td>3</td>\n",
       "    </tr>\n",
       "    <tr>\n",
       "      <td>1141</td>\n",
       "      <td>1178</td>\n",
       "      <td>F</td>\n",
       "      <td>113</td>\n",
       "      <td>790253</td>\n",
       "      <td>135</td>\n",
       "      <td>198.710000</td>\n",
       "      <td>1</td>\n",
       "      <td>1</td>\n",
       "      <td>3</td>\n",
       "    </tr>\n",
       "    <tr>\n",
       "      <td>1142</td>\n",
       "      <td>1178</td>\n",
       "      <td>F</td>\n",
       "      <td>114</td>\n",
       "      <td>513161</td>\n",
       "      <td>114</td>\n",
       "      <td>165.609999</td>\n",
       "      <td>1</td>\n",
       "      <td>1</td>\n",
       "      <td>3</td>\n",
       "    </tr>\n",
       "  </tbody>\n",
       "</table>\n",
       "<p>1143 rows × 9 columns</p>\n",
       "</div>"
      ],
      "text/plain": [
       "     xyz_campaign_id gender interest  Impressions  Clicks       Spent  \\\n",
       "0                916      M       15         7350       1    1.430000   \n",
       "1                916      M       16        17861       2    1.820000   \n",
       "2                916      M       20          693       0    0.000000   \n",
       "3                916      M       28         4259       1    1.250000   \n",
       "4                916      M       28         4133       1    1.290000   \n",
       "...              ...    ...      ...          ...     ...         ...   \n",
       "1138            1178      F      109      1129773     252  358.189997   \n",
       "1139            1178      F      110       637549     120  173.880003   \n",
       "1140            1178      F      111       151531      28   40.289999   \n",
       "1141            1178      F      113       790253     135  198.710000   \n",
       "1142            1178      F      114       513161     114  165.609999   \n",
       "\n",
       "      Approved_Conversion  fb_counts  age_number  \n",
       "0                       1          1           0  \n",
       "1                       0          1           0  \n",
       "2                       0          1           0  \n",
       "3                       0          2           0  \n",
       "4                       1          2           0  \n",
       "...                   ...        ...         ...  \n",
       "1138                    1          1           3  \n",
       "1139                    0          1           3  \n",
       "1140                    0          1           3  \n",
       "1141                    1          1           3  \n",
       "1142                    1          1           3  \n",
       "\n",
       "[1143 rows x 9 columns]"
      ]
     },
     "execution_count": 479,
     "metadata": {},
     "output_type": "execute_result"
    }
   ],
   "source": [
    "df"
   ]
  },
  {
   "cell_type": "code",
   "execution_count": 480,
   "metadata": {},
   "outputs": [
    {
     "data": {
      "text/html": [
       "<div>\n",
       "<style scoped>\n",
       "    .dataframe tbody tr th:only-of-type {\n",
       "        vertical-align: middle;\n",
       "    }\n",
       "\n",
       "    .dataframe tbody tr th {\n",
       "        vertical-align: top;\n",
       "    }\n",
       "\n",
       "    .dataframe thead th {\n",
       "        text-align: right;\n",
       "    }\n",
       "</style>\n",
       "<table border=\"1\" class=\"dataframe\">\n",
       "  <thead>\n",
       "    <tr style=\"text-align: right;\">\n",
       "      <th></th>\n",
       "      <th>Impressions</th>\n",
       "      <th>Clicks</th>\n",
       "      <th>Spent</th>\n",
       "      <th>Approved_Conversion</th>\n",
       "      <th>fb_counts</th>\n",
       "      <th>age_number</th>\n",
       "      <th>xyz_campaign_id_916</th>\n",
       "      <th>xyz_campaign_id_936</th>\n",
       "      <th>xyz_campaign_id_1178</th>\n",
       "      <th>gender_F</th>\n",
       "      <th>...</th>\n",
       "      <th>interest_105</th>\n",
       "      <th>interest_106</th>\n",
       "      <th>interest_107</th>\n",
       "      <th>interest_108</th>\n",
       "      <th>interest_109</th>\n",
       "      <th>interest_110</th>\n",
       "      <th>interest_111</th>\n",
       "      <th>interest_112</th>\n",
       "      <th>interest_113</th>\n",
       "      <th>interest_114</th>\n",
       "    </tr>\n",
       "  </thead>\n",
       "  <tbody>\n",
       "    <tr>\n",
       "      <td>0</td>\n",
       "      <td>7350</td>\n",
       "      <td>1</td>\n",
       "      <td>1.43</td>\n",
       "      <td>1</td>\n",
       "      <td>1</td>\n",
       "      <td>0</td>\n",
       "      <td>1</td>\n",
       "      <td>0</td>\n",
       "      <td>0</td>\n",
       "      <td>0</td>\n",
       "      <td>...</td>\n",
       "      <td>0</td>\n",
       "      <td>0</td>\n",
       "      <td>0</td>\n",
       "      <td>0</td>\n",
       "      <td>0</td>\n",
       "      <td>0</td>\n",
       "      <td>0</td>\n",
       "      <td>0</td>\n",
       "      <td>0</td>\n",
       "      <td>0</td>\n",
       "    </tr>\n",
       "    <tr>\n",
       "      <td>1</td>\n",
       "      <td>17861</td>\n",
       "      <td>2</td>\n",
       "      <td>1.82</td>\n",
       "      <td>0</td>\n",
       "      <td>1</td>\n",
       "      <td>0</td>\n",
       "      <td>1</td>\n",
       "      <td>0</td>\n",
       "      <td>0</td>\n",
       "      <td>0</td>\n",
       "      <td>...</td>\n",
       "      <td>0</td>\n",
       "      <td>0</td>\n",
       "      <td>0</td>\n",
       "      <td>0</td>\n",
       "      <td>0</td>\n",
       "      <td>0</td>\n",
       "      <td>0</td>\n",
       "      <td>0</td>\n",
       "      <td>0</td>\n",
       "      <td>0</td>\n",
       "    </tr>\n",
       "    <tr>\n",
       "      <td>2</td>\n",
       "      <td>693</td>\n",
       "      <td>0</td>\n",
       "      <td>0.00</td>\n",
       "      <td>0</td>\n",
       "      <td>1</td>\n",
       "      <td>0</td>\n",
       "      <td>1</td>\n",
       "      <td>0</td>\n",
       "      <td>0</td>\n",
       "      <td>0</td>\n",
       "      <td>...</td>\n",
       "      <td>0</td>\n",
       "      <td>0</td>\n",
       "      <td>0</td>\n",
       "      <td>0</td>\n",
       "      <td>0</td>\n",
       "      <td>0</td>\n",
       "      <td>0</td>\n",
       "      <td>0</td>\n",
       "      <td>0</td>\n",
       "      <td>0</td>\n",
       "    </tr>\n",
       "    <tr>\n",
       "      <td>3</td>\n",
       "      <td>4259</td>\n",
       "      <td>1</td>\n",
       "      <td>1.25</td>\n",
       "      <td>0</td>\n",
       "      <td>2</td>\n",
       "      <td>0</td>\n",
       "      <td>1</td>\n",
       "      <td>0</td>\n",
       "      <td>0</td>\n",
       "      <td>0</td>\n",
       "      <td>...</td>\n",
       "      <td>0</td>\n",
       "      <td>0</td>\n",
       "      <td>0</td>\n",
       "      <td>0</td>\n",
       "      <td>0</td>\n",
       "      <td>0</td>\n",
       "      <td>0</td>\n",
       "      <td>0</td>\n",
       "      <td>0</td>\n",
       "      <td>0</td>\n",
       "    </tr>\n",
       "    <tr>\n",
       "      <td>4</td>\n",
       "      <td>4133</td>\n",
       "      <td>1</td>\n",
       "      <td>1.29</td>\n",
       "      <td>1</td>\n",
       "      <td>2</td>\n",
       "      <td>0</td>\n",
       "      <td>1</td>\n",
       "      <td>0</td>\n",
       "      <td>0</td>\n",
       "      <td>0</td>\n",
       "      <td>...</td>\n",
       "      <td>0</td>\n",
       "      <td>0</td>\n",
       "      <td>0</td>\n",
       "      <td>0</td>\n",
       "      <td>0</td>\n",
       "      <td>0</td>\n",
       "      <td>0</td>\n",
       "      <td>0</td>\n",
       "      <td>0</td>\n",
       "      <td>0</td>\n",
       "    </tr>\n",
       "  </tbody>\n",
       "</table>\n",
       "<p>5 rows × 51 columns</p>\n",
       "</div>"
      ],
      "text/plain": [
       "   Impressions  Clicks  Spent  Approved_Conversion  fb_counts  age_number  \\\n",
       "0         7350       1   1.43                    1          1           0   \n",
       "1        17861       2   1.82                    0          1           0   \n",
       "2          693       0   0.00                    0          1           0   \n",
       "3         4259       1   1.25                    0          2           0   \n",
       "4         4133       1   1.29                    1          2           0   \n",
       "\n",
       "   xyz_campaign_id_916  xyz_campaign_id_936  xyz_campaign_id_1178  gender_F  \\\n",
       "0                    1                    0                     0         0   \n",
       "1                    1                    0                     0         0   \n",
       "2                    1                    0                     0         0   \n",
       "3                    1                    0                     0         0   \n",
       "4                    1                    0                     0         0   \n",
       "\n",
       "   ...  interest_105  interest_106  interest_107  interest_108  interest_109  \\\n",
       "0  ...             0             0             0             0             0   \n",
       "1  ...             0             0             0             0             0   \n",
       "2  ...             0             0             0             0             0   \n",
       "3  ...             0             0             0             0             0   \n",
       "4  ...             0             0             0             0             0   \n",
       "\n",
       "   interest_110  interest_111  interest_112  interest_113  interest_114  \n",
       "0             0             0             0             0             0  \n",
       "1             0             0             0             0             0  \n",
       "2             0             0             0             0             0  \n",
       "3             0             0             0             0             0  \n",
       "4             0             0             0             0             0  \n",
       "\n",
       "[5 rows x 51 columns]"
      ]
     },
     "execution_count": 480,
     "metadata": {},
     "output_type": "execute_result"
    }
   ],
   "source": [
    "# One hot encode categorical data.\n",
    "\n",
    "df = pd.get_dummies(df)\n",
    "df.head()"
   ]
  },
  {
   "cell_type": "code",
   "execution_count": 481,
   "metadata": {},
   "outputs": [],
   "source": [
    "# Isolate the target.\n",
    "\n",
    "y = df.pop('Approved_Conversion')"
   ]
  },
  {
   "cell_type": "code",
   "execution_count": 482,
   "metadata": {},
   "outputs": [
    {
     "data": {
      "text/plain": [
       "0       1\n",
       "1       0\n",
       "2       0\n",
       "3       0\n",
       "4       1\n",
       "       ..\n",
       "1138    1\n",
       "1139    0\n",
       "1140    0\n",
       "1141    1\n",
       "1142    1\n",
       "Name: Approved_Conversion, Length: 1143, dtype: int64"
      ]
     },
     "execution_count": 482,
     "metadata": {},
     "output_type": "execute_result"
    }
   ],
   "source": [
    "y"
   ]
  },
  {
   "cell_type": "code",
   "execution_count": 483,
   "metadata": {},
   "outputs": [],
   "source": [
    "# Train test split\n",
    "\n",
    "X_train, X_test, y_train,y_test  = train_test_split(df,y,test_size=.3, random_state=123)"
   ]
  },
  {
   "cell_type": "code",
   "execution_count": 484,
   "metadata": {},
   "outputs": [
    {
     "data": {
      "text/html": [
       "<div>\n",
       "<style scoped>\n",
       "    .dataframe tbody tr th:only-of-type {\n",
       "        vertical-align: middle;\n",
       "    }\n",
       "\n",
       "    .dataframe tbody tr th {\n",
       "        vertical-align: top;\n",
       "    }\n",
       "\n",
       "    .dataframe thead th {\n",
       "        text-align: right;\n",
       "    }\n",
       "</style>\n",
       "<table border=\"1\" class=\"dataframe\">\n",
       "  <thead>\n",
       "    <tr style=\"text-align: right;\">\n",
       "      <th></th>\n",
       "      <th>Impressions</th>\n",
       "      <th>Clicks</th>\n",
       "      <th>Spent</th>\n",
       "      <th>fb_counts</th>\n",
       "      <th>age_number</th>\n",
       "      <th>xyz_campaign_id_916</th>\n",
       "      <th>xyz_campaign_id_936</th>\n",
       "      <th>xyz_campaign_id_1178</th>\n",
       "      <th>gender_F</th>\n",
       "      <th>gender_M</th>\n",
       "      <th>...</th>\n",
       "      <th>interest_105</th>\n",
       "      <th>interest_106</th>\n",
       "      <th>interest_107</th>\n",
       "      <th>interest_108</th>\n",
       "      <th>interest_109</th>\n",
       "      <th>interest_110</th>\n",
       "      <th>interest_111</th>\n",
       "      <th>interest_112</th>\n",
       "      <th>interest_113</th>\n",
       "      <th>interest_114</th>\n",
       "    </tr>\n",
       "  </thead>\n",
       "  <tbody>\n",
       "    <tr>\n",
       "      <td>957</td>\n",
       "      <td>46391</td>\n",
       "      <td>11</td>\n",
       "      <td>16.410000</td>\n",
       "      <td>3</td>\n",
       "      <td>2</td>\n",
       "      <td>0</td>\n",
       "      <td>0</td>\n",
       "      <td>1</td>\n",
       "      <td>1</td>\n",
       "      <td>0</td>\n",
       "      <td>...</td>\n",
       "      <td>0</td>\n",
       "      <td>0</td>\n",
       "      <td>0</td>\n",
       "      <td>0</td>\n",
       "      <td>0</td>\n",
       "      <td>0</td>\n",
       "      <td>0</td>\n",
       "      <td>0</td>\n",
       "      <td>0</td>\n",
       "      <td>0</td>\n",
       "    </tr>\n",
       "    <tr>\n",
       "      <td>1097</td>\n",
       "      <td>780967</td>\n",
       "      <td>86</td>\n",
       "      <td>119.640002</td>\n",
       "      <td>1</td>\n",
       "      <td>0</td>\n",
       "      <td>0</td>\n",
       "      <td>0</td>\n",
       "      <td>1</td>\n",
       "      <td>1</td>\n",
       "      <td>0</td>\n",
       "      <td>...</td>\n",
       "      <td>0</td>\n",
       "      <td>0</td>\n",
       "      <td>1</td>\n",
       "      <td>0</td>\n",
       "      <td>0</td>\n",
       "      <td>0</td>\n",
       "      <td>0</td>\n",
       "      <td>0</td>\n",
       "      <td>0</td>\n",
       "      <td>0</td>\n",
       "    </tr>\n",
       "    <tr>\n",
       "      <td>805</td>\n",
       "      <td>111963</td>\n",
       "      <td>17</td>\n",
       "      <td>29.379999</td>\n",
       "      <td>6</td>\n",
       "      <td>3</td>\n",
       "      <td>0</td>\n",
       "      <td>0</td>\n",
       "      <td>1</td>\n",
       "      <td>0</td>\n",
       "      <td>1</td>\n",
       "      <td>...</td>\n",
       "      <td>0</td>\n",
       "      <td>0</td>\n",
       "      <td>0</td>\n",
       "      <td>0</td>\n",
       "      <td>0</td>\n",
       "      <td>0</td>\n",
       "      <td>0</td>\n",
       "      <td>0</td>\n",
       "      <td>0</td>\n",
       "      <td>0</td>\n",
       "    </tr>\n",
       "    <tr>\n",
       "      <td>298</td>\n",
       "      <td>11735</td>\n",
       "      <td>3</td>\n",
       "      <td>4.530000</td>\n",
       "      <td>2</td>\n",
       "      <td>0</td>\n",
       "      <td>0</td>\n",
       "      <td>1</td>\n",
       "      <td>0</td>\n",
       "      <td>0</td>\n",
       "      <td>1</td>\n",
       "      <td>...</td>\n",
       "      <td>0</td>\n",
       "      <td>0</td>\n",
       "      <td>0</td>\n",
       "      <td>0</td>\n",
       "      <td>0</td>\n",
       "      <td>0</td>\n",
       "      <td>0</td>\n",
       "      <td>0</td>\n",
       "      <td>0</td>\n",
       "      <td>0</td>\n",
       "    </tr>\n",
       "    <tr>\n",
       "      <td>646</td>\n",
       "      <td>64647</td>\n",
       "      <td>10</td>\n",
       "      <td>16.270000</td>\n",
       "      <td>5</td>\n",
       "      <td>1</td>\n",
       "      <td>0</td>\n",
       "      <td>0</td>\n",
       "      <td>1</td>\n",
       "      <td>0</td>\n",
       "      <td>1</td>\n",
       "      <td>...</td>\n",
       "      <td>0</td>\n",
       "      <td>0</td>\n",
       "      <td>0</td>\n",
       "      <td>0</td>\n",
       "      <td>0</td>\n",
       "      <td>0</td>\n",
       "      <td>0</td>\n",
       "      <td>0</td>\n",
       "      <td>0</td>\n",
       "      <td>0</td>\n",
       "    </tr>\n",
       "    <tr>\n",
       "      <td>...</td>\n",
       "      <td>...</td>\n",
       "      <td>...</td>\n",
       "      <td>...</td>\n",
       "      <td>...</td>\n",
       "      <td>...</td>\n",
       "      <td>...</td>\n",
       "      <td>...</td>\n",
       "      <td>...</td>\n",
       "      <td>...</td>\n",
       "      <td>...</td>\n",
       "      <td>...</td>\n",
       "      <td>...</td>\n",
       "      <td>...</td>\n",
       "      <td>...</td>\n",
       "      <td>...</td>\n",
       "      <td>...</td>\n",
       "      <td>...</td>\n",
       "      <td>...</td>\n",
       "      <td>...</td>\n",
       "      <td>...</td>\n",
       "      <td>...</td>\n",
       "    </tr>\n",
       "    <tr>\n",
       "      <td>113</td>\n",
       "      <td>2522</td>\n",
       "      <td>0</td>\n",
       "      <td>0.000000</td>\n",
       "      <td>1</td>\n",
       "      <td>0</td>\n",
       "      <td>0</td>\n",
       "      <td>1</td>\n",
       "      <td>0</td>\n",
       "      <td>0</td>\n",
       "      <td>1</td>\n",
       "      <td>...</td>\n",
       "      <td>0</td>\n",
       "      <td>0</td>\n",
       "      <td>0</td>\n",
       "      <td>0</td>\n",
       "      <td>0</td>\n",
       "      <td>0</td>\n",
       "      <td>0</td>\n",
       "      <td>0</td>\n",
       "      <td>0</td>\n",
       "      <td>0</td>\n",
       "    </tr>\n",
       "    <tr>\n",
       "      <td>96</td>\n",
       "      <td>1357</td>\n",
       "      <td>0</td>\n",
       "      <td>0.000000</td>\n",
       "      <td>1</td>\n",
       "      <td>1</td>\n",
       "      <td>0</td>\n",
       "      <td>1</td>\n",
       "      <td>0</td>\n",
       "      <td>1</td>\n",
       "      <td>0</td>\n",
       "      <td>...</td>\n",
       "      <td>0</td>\n",
       "      <td>0</td>\n",
       "      <td>0</td>\n",
       "      <td>0</td>\n",
       "      <td>0</td>\n",
       "      <td>0</td>\n",
       "      <td>0</td>\n",
       "      <td>0</td>\n",
       "      <td>0</td>\n",
       "      <td>0</td>\n",
       "    </tr>\n",
       "    <tr>\n",
       "      <td>106</td>\n",
       "      <td>69708</td>\n",
       "      <td>20</td>\n",
       "      <td>31.289999</td>\n",
       "      <td>1</td>\n",
       "      <td>3</td>\n",
       "      <td>0</td>\n",
       "      <td>1</td>\n",
       "      <td>0</td>\n",
       "      <td>1</td>\n",
       "      <td>0</td>\n",
       "      <td>...</td>\n",
       "      <td>0</td>\n",
       "      <td>0</td>\n",
       "      <td>0</td>\n",
       "      <td>0</td>\n",
       "      <td>0</td>\n",
       "      <td>0</td>\n",
       "      <td>0</td>\n",
       "      <td>0</td>\n",
       "      <td>0</td>\n",
       "      <td>0</td>\n",
       "    </tr>\n",
       "    <tr>\n",
       "      <td>1041</td>\n",
       "      <td>1111156</td>\n",
       "      <td>282</td>\n",
       "      <td>402.300003</td>\n",
       "      <td>3</td>\n",
       "      <td>3</td>\n",
       "      <td>0</td>\n",
       "      <td>0</td>\n",
       "      <td>1</td>\n",
       "      <td>1</td>\n",
       "      <td>0</td>\n",
       "      <td>...</td>\n",
       "      <td>0</td>\n",
       "      <td>0</td>\n",
       "      <td>0</td>\n",
       "      <td>0</td>\n",
       "      <td>0</td>\n",
       "      <td>0</td>\n",
       "      <td>0</td>\n",
       "      <td>0</td>\n",
       "      <td>0</td>\n",
       "      <td>0</td>\n",
       "    </tr>\n",
       "    <tr>\n",
       "      <td>1122</td>\n",
       "      <td>877535</td>\n",
       "      <td>149</td>\n",
       "      <td>217.779997</td>\n",
       "      <td>1</td>\n",
       "      <td>2</td>\n",
       "      <td>0</td>\n",
       "      <td>0</td>\n",
       "      <td>1</td>\n",
       "      <td>1</td>\n",
       "      <td>0</td>\n",
       "      <td>...</td>\n",
       "      <td>0</td>\n",
       "      <td>0</td>\n",
       "      <td>1</td>\n",
       "      <td>0</td>\n",
       "      <td>0</td>\n",
       "      <td>0</td>\n",
       "      <td>0</td>\n",
       "      <td>0</td>\n",
       "      <td>0</td>\n",
       "      <td>0</td>\n",
       "    </tr>\n",
       "  </tbody>\n",
       "</table>\n",
       "<p>800 rows × 50 columns</p>\n",
       "</div>"
      ],
      "text/plain": [
       "      Impressions  Clicks       Spent  fb_counts  age_number  \\\n",
       "957         46391      11   16.410000          3           2   \n",
       "1097       780967      86  119.640002          1           0   \n",
       "805        111963      17   29.379999          6           3   \n",
       "298         11735       3    4.530000          2           0   \n",
       "646         64647      10   16.270000          5           1   \n",
       "...           ...     ...         ...        ...         ...   \n",
       "113          2522       0    0.000000          1           0   \n",
       "96           1357       0    0.000000          1           1   \n",
       "106         69708      20   31.289999          1           3   \n",
       "1041      1111156     282  402.300003          3           3   \n",
       "1122       877535     149  217.779997          1           2   \n",
       "\n",
       "      xyz_campaign_id_916  xyz_campaign_id_936  xyz_campaign_id_1178  \\\n",
       "957                     0                    0                     1   \n",
       "1097                    0                    0                     1   \n",
       "805                     0                    0                     1   \n",
       "298                     0                    1                     0   \n",
       "646                     0                    0                     1   \n",
       "...                   ...                  ...                   ...   \n",
       "113                     0                    1                     0   \n",
       "96                      0                    1                     0   \n",
       "106                     0                    1                     0   \n",
       "1041                    0                    0                     1   \n",
       "1122                    0                    0                     1   \n",
       "\n",
       "      gender_F  gender_M  ...  interest_105  interest_106  interest_107  \\\n",
       "957          1         0  ...             0             0             0   \n",
       "1097         1         0  ...             0             0             1   \n",
       "805          0         1  ...             0             0             0   \n",
       "298          0         1  ...             0             0             0   \n",
       "646          0         1  ...             0             0             0   \n",
       "...        ...       ...  ...           ...           ...           ...   \n",
       "113          0         1  ...             0             0             0   \n",
       "96           1         0  ...             0             0             0   \n",
       "106          1         0  ...             0             0             0   \n",
       "1041         1         0  ...             0             0             0   \n",
       "1122         1         0  ...             0             0             1   \n",
       "\n",
       "      interest_108  interest_109  interest_110  interest_111  interest_112  \\\n",
       "957              0             0             0             0             0   \n",
       "1097             0             0             0             0             0   \n",
       "805              0             0             0             0             0   \n",
       "298              0             0             0             0             0   \n",
       "646              0             0             0             0             0   \n",
       "...            ...           ...           ...           ...           ...   \n",
       "113              0             0             0             0             0   \n",
       "96               0             0             0             0             0   \n",
       "106              0             0             0             0             0   \n",
       "1041             0             0             0             0             0   \n",
       "1122             0             0             0             0             0   \n",
       "\n",
       "      interest_113  interest_114  \n",
       "957              0             0  \n",
       "1097             0             0  \n",
       "805              0             0  \n",
       "298              0             0  \n",
       "646              0             0  \n",
       "...            ...           ...  \n",
       "113              0             0  \n",
       "96               0             0  \n",
       "106              0             0  \n",
       "1041             0             0  \n",
       "1122             0             0  \n",
       "\n",
       "[800 rows x 50 columns]"
      ]
     },
     "execution_count": 484,
     "metadata": {},
     "output_type": "execute_result"
    }
   ],
   "source": [
    "X_train"
   ]
  },
  {
   "cell_type": "code",
   "execution_count": 485,
   "metadata": {},
   "outputs": [
    {
     "data": {
      "text/plain": [
       "1    0.515\n",
       "0    0.485\n",
       "Name: Approved_Conversion, dtype: float64"
      ]
     },
     "execution_count": 485,
     "metadata": {},
     "output_type": "execute_result"
    }
   ],
   "source": [
    "# Check for imbalance.\n",
    "\n",
    "y_train.value_counts(normalize=True)"
   ]
  },
  {
   "cell_type": "code",
   "execution_count": 486,
   "metadata": {},
   "outputs": [
    {
     "data": {
      "text/plain": [
       "1    0.501458\n",
       "0    0.498542\n",
       "Name: Approved_Conversion, dtype: float64"
      ]
     },
     "execution_count": 486,
     "metadata": {},
     "output_type": "execute_result"
    }
   ],
   "source": [
    "y_test.value_counts(normalize=True)"
   ]
  },
  {
   "cell_type": "markdown",
   "metadata": {},
   "source": [
    "# Run Model Function"
   ]
  },
  {
   "cell_type": "code",
   "execution_count": 487,
   "metadata": {},
   "outputs": [],
   "source": [
    "def run_model(clf, X_trn, y_trn, X_true):\n",
    "    \n",
    "    '''\n",
    "    Intitializes Timer class, starts Timer, fits model, stops Timer, and returns y_hat_test \n",
    "    (predicted values of X_true) and clf (classifier).\n",
    "    \n",
    "        Parameters:\n",
    "            \n",
    "            clf: classifier or instanciated model\n",
    "            X_trn: X train from test, train, split\n",
    "            y_trn: y train from test, train, split\n",
    "            X_true: X test from test, train, split\n",
    "            \n",
    "        Returns:\n",
    "            \n",
    "            y_hat_test and clf\n",
    "            \n",
    "    '''\n",
    "\n",
    "    \n",
    "    timer = Timer()\n",
    "    timer.start()\n",
    "\n",
    "    clf.fit(X_trn,y_trn)\n",
    "    \n",
    "    y_hat_test = clf.predict(X_true)\n",
    "    \n",
    "    timer.stop()\n",
    "    return y_hat_test, clf"
   ]
  },
  {
   "cell_type": "markdown",
   "metadata": {},
   "source": [
    "# Model Evaluation Function"
   ]
  },
  {
   "cell_type": "code",
   "execution_count": 488,
   "metadata": {},
   "outputs": [],
   "source": [
    "def evaluate_model(clf, y_trn, y_true, y_pred, X_trn, X_true):\n",
    "    \n",
    "    '''\n",
    "    Calculates and displays the following: Train and Test Score, Classification Report, \n",
    "    Confusion Matrix, ROC Curve, and Importance Series.\n",
    "    \n",
    "        Parameters:\n",
    "            \n",
    "            clf: classifier or instanciated model from run_model function\n",
    "            y_trn: y train from test, train, split\n",
    "            y_true: y test from test, train, split\n",
    "            y_pred: y hat test from run_model fuction\n",
    "            X_trn: X train from test, train, split\n",
    "            X_true: X test from test, train, split\n",
    "    \n",
    "    '''\n",
    "    # Calculates and displays train and test scores.\n",
    "    train_score = clf.score(X_trn,y_trn)\n",
    "    test_score = clf.score(X_true,y_true)\n",
    "    print(f\"Train score= {train_score}\")\n",
    "    print(f\"Test score= {test_score}\")\n",
    "    \n",
    "    # Displays Classification Report / Scores \n",
    "    print(metrics.classification_report(y_true,y_pred))\n",
    "    \n",
    "    # Displays Confusion Matrix\n",
    "    fig, ax = plt.subplots(figsize=(10,4),ncols=2)\n",
    "    metrics.plot_confusion_matrix(clf,X_true,y_true,cmap=\"Reds\",\n",
    "                                  normalize='true',ax=ax[0])\n",
    "    ax[0].set(title='Confusion Matrix')\n",
    "    ax[0].grid(False)\n",
    "    y_score = clf.predict_proba(X_true)[:,1]\n",
    "    \n",
    "    # Calculates and displays ROC Curve\n",
    "    fpr,tpr,thresh = metrics.roc_curve(y_true,y_score)\n",
    "    roc_auc = round(metrics.auc(fpr,tpr),3)\n",
    "    ax[1].plot(fpr,tpr,color='darkorange',label=f'ROC Curve (AUC={roc_auc})')\n",
    "    ax[1].plot([0,1],[0,1],ls=':')\n",
    "    ax[1].legend()\n",
    "    ax[1].grid()\n",
    "    ax[1].set(ylabel='True Positive Rate',xlabel='False Positive Rate',title='Receiver operating characteristic (ROC) Curve')\n",
    "    plt.tight_layout()\n",
    "    plt.show()\n",
    "\n",
    "    # Calculates and displays Feature Importances.\n",
    "    df_import = pd.Series(clf.feature_importances_, index = X_train.columns,name='Importance')\n",
    "    print(df_import.sort_values(ascending=False).head())"
   ]
  },
  {
   "cell_type": "markdown",
   "metadata": {},
   "source": [
    "# Timer Class/Function"
   ]
  },
  {
   "cell_type": "code",
   "execution_count": 489,
   "metadata": {},
   "outputs": [
    {
     "name": "stdout",
     "output_type": "stream",
     "text": [
      "2020-05-12 10:49:23.095343-04:00\n",
      "[i] Timer started at05/12/20 - 10:49 AM\n",
      "[i] Timer ended at 05/12/20 - 10:49 AM\n",
      "- Total time = 0:00:00.000290\n"
     ]
    }
   ],
   "source": [
    "class Timer():\n",
    "    '''\n",
    "    Timer class with __init__, get_time, start, and stop function defined within. \n",
    "    \n",
    "    '''\n",
    "    \n",
    "    # Initialize Timer class, define format, establish local timezone.\n",
    "    def __init__(self,format_=\"%m/%d/%y - %I:%M %p\"):\n",
    "        import tzlocal\n",
    "        self.tz = tzlocal.get_localzone()\n",
    "        self.fmt = format_\n",
    "        \n",
    "        self.created_at = self.get_time()# get time\n",
    "        \n",
    "    # Define get time method\n",
    "    def get_time(self):\n",
    "        '''\n",
    "        Returns current time in local timezone.\n",
    "        \n",
    "        '''\n",
    "        import datetime as dt\n",
    "        return dt.datetime.now(self.tz)\n",
    "\n",
    "    # Define start\n",
    "    def start(self):\n",
    "        '''\n",
    "        Runs get_time and displays start time.\n",
    "        \n",
    "        '''\n",
    "        time = self.get_time()\n",
    "        self.start = time\n",
    "        print(f\"[i] Timer started at{self.start.strftime(self.fmt)}\")\n",
    "        \n",
    "    # Define stop\n",
    "    def stop(self):\n",
    "        '''\n",
    "        Runs get_time and stores as self.end. Displays end and elapsed time.\n",
    "        \n",
    "        '''\n",
    "        time = self.get_time()\n",
    "        self.end = time\n",
    "        print(f\"[i] Timer ended at {self.end.strftime(self.fmt)}\")\n",
    "        print(f\"- Total time = {self.end-self.start}\")\n",
    "\n",
    "# Test Timer class\n",
    "timer = Timer()\n",
    "print(timer.created_at)\n",
    "timer.start()\n",
    "timer.stop()"
   ]
  },
  {
   "cell_type": "markdown",
   "metadata": {},
   "source": [
    "# Tree Visualization Function"
   ]
  },
  {
   "cell_type": "code",
   "execution_count": 490,
   "metadata": {},
   "outputs": [],
   "source": [
    "# Visualize the decision tree\n",
    "def visualize_tree(tree,feature_names=None,class_names=['0','1'],\n",
    "                   kws={},save_filename=None,format_='png',save_and_show=False):\n",
    "    \"\"\"\n",
    "    Visualizes a sklearn tree using sklearn.tree.export_graphviz.\n",
    "    \n",
    "        Parameters:\n",
    "            tree: Classifier\n",
    "            feature_names: (default is None) X Train columns\n",
    "            class_names: default is a list 0 and 1\n",
    "            kws: empty dictionary\n",
    "            save_filename: (default is None) file name\n",
    "            format: default 'png'\n",
    "            save_and_show: default False\n",
    "            \n",
    "    Returns display of visualization of tree and saved file.\n",
    "    \n",
    "    \"\"\"\n",
    "    # Import needed packages\n",
    "    from sklearn.tree import export_graphviz\n",
    "    from IPython.display import SVG\n",
    "    import graphviz #import Source\n",
    "    from IPython.display import display\n",
    "    \n",
    "    # Set feature names values\n",
    "    if feature_names is None:\n",
    "        feature_names=X_train.columns\n",
    "\n",
    "    # tree_viz_kws dictionary    \n",
    "    tree_viz_kws =  dict(out_file=None,rounded=True, rotate=False, filled = True)\n",
    "    tree_viz_kws.update(kws)\n",
    "\n",
    "    # tree.export_graphviz(dt) #if you wish to save the output to a dot file instead\n",
    "    tree_data=export_graphviz(tree,feature_names=feature_names, \n",
    "                                   class_names=class_names,**tree_viz_kws)\n",
    "    graph = graphviz.Source(tree_data,format=format_)\n",
    "    \n",
    "    # Save file name\n",
    "    if save_filename is not None:\n",
    "        graph.render(save_filename)\n",
    "        if save_and_show:\n",
    "            display(graph)\n",
    "        else:\n",
    "            print(f'[i] Tree saved as {save_filename}.{format_}')\n",
    "    else:\n",
    "        display(graph)"
   ]
  },
  {
   "cell_type": "markdown",
   "metadata": {},
   "source": [
    "# Decision Tree Model"
   ]
  },
  {
   "cell_type": "code",
   "execution_count": 491,
   "metadata": {},
   "outputs": [],
   "source": [
    "tree = DecisionTreeClassifier(max_depth=5)"
   ]
  },
  {
   "cell_type": "code",
   "execution_count": 492,
   "metadata": {},
   "outputs": [
    {
     "name": "stdout",
     "output_type": "stream",
     "text": [
      "[i] Timer started at05/12/20 - 10:49 AM\n",
      "[i] Timer ended at 05/12/20 - 10:49 AM\n",
      "- Total time = 0:00:00.007810\n"
     ]
    }
   ],
   "source": [
    "y_hat_test, clf = run_model(tree, X_train, y_train, X_test)"
   ]
  },
  {
   "cell_type": "markdown",
   "metadata": {},
   "source": [
    "# Decision Tree Results"
   ]
  },
  {
   "cell_type": "code",
   "execution_count": 493,
   "metadata": {
    "scrolled": false
   },
   "outputs": [
    {
     "name": "stdout",
     "output_type": "stream",
     "text": [
      "Train score= 0.705\n",
      "Test score= 0.5568513119533528\n",
      "              precision    recall  f1-score   support\n",
      "\n",
      "           0       0.55      0.56      0.56       171\n",
      "           1       0.56      0.55      0.56       172\n",
      "\n",
      "    accuracy                           0.56       343\n",
      "   macro avg       0.56      0.56      0.56       343\n",
      "weighted avg       0.56      0.56      0.56       343\n",
      "\n"
     ]
    },
    {
     "data": {
      "image/png": "[encoded data removed]",
      "text/plain": [
       "<Figure size 720x288 with 3 Axes>"
      ]
     },
     "metadata": {},
     "output_type": "display_data"
    },
    {
     "name": "stdout",
     "output_type": "stream",
     "text": [
      "Impressions    0.651394\n",
      "Spent          0.174677\n",
      "interest_65    0.051234\n",
      "interest_22    0.044315\n",
      "interest_10    0.017917\n",
      "Name: Importance, dtype: float64\n"
     ]
    }
   ],
   "source": [
    "evaluate_model(clf, y_train, y_test, y_hat_test, X_train, X_test)"
   ]
  },
  {
   "cell_type": "markdown",
   "metadata": {},
   "source": [
    "## First Decision Tree model shows mediocre results. The model scored 73% on the training data and 60% on the testing data. While the scores indicate that the model did slightly overfit, it only performed slightly better than 60% on recall. It did a descent job predicting true negative (69%) however it fell short in predicting true positive (54%). The most influenctial predictor by far is Impressions."
   ]
  },
  {
   "cell_type": "markdown",
   "metadata": {},
   "source": [
    "# Visualize Tree"
   ]
  },
  {
   "cell_type": "code",
   "execution_count": 494,
   "metadata": {},
   "outputs": [
    {
     "name": "stdout",
     "output_type": "stream",
     "text": [
      "[i] Tree saved as Tree.png\n"
     ]
    }
   ],
   "source": [
    "visualize_tree(tree,feature_names=X_train.columns,save_filename='Tree')"
   ]
  },
  {
   "cell_type": "markdown",
   "metadata": {},
   "source": [
    "# Random Forest Model"
   ]
  },
  {
   "cell_type": "code",
   "execution_count": 495,
   "metadata": {},
   "outputs": [],
   "source": [
    "rf = RandomForestClassifier()"
   ]
  },
  {
   "cell_type": "code",
   "execution_count": 496,
   "metadata": {
    "scrolled": false
   },
   "outputs": [
    {
     "name": "stdout",
     "output_type": "stream",
     "text": [
      "[i] Timer started at05/12/20 - 10:50 AM\n",
      "[i] Timer ended at 05/12/20 - 10:50 AM\n",
      "- Total time = 0:00:00.301701\n"
     ]
    }
   ],
   "source": [
    "y_hat_test, clf = run_model(rf, X_train, y_train, X_test)"
   ]
  },
  {
   "cell_type": "markdown",
   "metadata": {},
   "source": [
    "# Random Forest Results"
   ]
  },
  {
   "cell_type": "code",
   "execution_count": 497,
   "metadata": {},
   "outputs": [
    {
     "name": "stdout",
     "output_type": "stream",
     "text": [
      "Train score= 1.0\n",
      "Test score= 0.577259475218659\n",
      "              precision    recall  f1-score   support\n",
      "\n",
      "           0       0.57      0.60      0.58       171\n",
      "           1       0.58      0.56      0.57       172\n",
      "\n",
      "    accuracy                           0.58       343\n",
      "   macro avg       0.58      0.58      0.58       343\n",
      "weighted avg       0.58      0.58      0.58       343\n",
      "\n"
     ]
    },
    {
     "data": {
      "image/png": "[encoded data removed]",
      "text/plain": [
       "<Figure size 720x288 with 3 Axes>"
      ]
     },
     "metadata": {},
     "output_type": "display_data"
    },
    {
     "name": "stdout",
     "output_type": "stream",
     "text": [
      "Impressions    0.235492\n",
      "Spent          0.167316\n",
      "Clicks         0.134165\n",
      "age_number     0.060373\n",
      "fb_counts      0.059988\n",
      "Name: Importance, dtype: float64\n"
     ]
    }
   ],
   "source": [
    "evaluate_model(clf, y_train, y_test,y_hat_test,X_train, X_test)"
   ]
  },
  {
   "cell_type": "markdown",
   "metadata": {},
   "source": [
    "## Random Forest overtrained the test data, indicated by a Train Score of 1. The results were surprisingly similar to a plain Decision Tree with exception of the overtrained train data. Clicks did make a showing in the top three pedictors, where it had not in the past."
   ]
  },
  {
   "cell_type": "markdown",
   "metadata": {},
   "source": [
    "# RF Grid Search"
   ]
  },
  {
   "cell_type": "code",
   "execution_count": 498,
   "metadata": {},
   "outputs": [],
   "source": [
    "tree = RandomForestClassifier()\n",
    "\n",
    "# Set up param grid\n",
    "\n",
    "param_grid = {'criterion':['gini','entropy'],\n",
    "             'max_depth':[None, 5, 3, 10],\n",
    "             'max_features':['auto','sqrt',3,5,10,30,70],\n",
    "              'min_samples_leaf': [1,2,3]}\n",
    "\n",
    "grid_clf = GridSearchCV(tree,param_grid)"
   ]
  },
  {
   "cell_type": "code",
   "execution_count": 499,
   "metadata": {},
   "outputs": [
    {
     "name": "stdout",
     "output_type": "stream",
     "text": [
      "[i] Timer started at05/12/20 - 10:51 AM\n",
      "[i] Timer ended at 05/12/20 - 10:53 AM\n",
      "- Total time = 0:02:33.554725\n"
     ]
    },
    {
     "data": {
      "text/plain": [
       "{'criterion': 'entropy',\n",
       " 'max_depth': 3,\n",
       " 'max_features': 5,\n",
       " 'min_samples_leaf': 1}"
      ]
     },
     "execution_count": 499,
     "metadata": {},
     "output_type": "execute_result"
    }
   ],
   "source": [
    "timer = Timer()\n",
    "timer.start()\n",
    "\n",
    "grid_clf.fit(X_train, y_train)\n",
    "\n",
    "timer.stop()\n",
    "\n",
    "grid_clf.best_params_"
   ]
  },
  {
   "cell_type": "code",
   "execution_count": 500,
   "metadata": {},
   "outputs": [],
   "source": [
    "# Create a tree with the gridsearch's best params\n",
    "\n",
    "best_tree = RandomForestClassifier(**grid_clf.best_params_)"
   ]
  },
  {
   "cell_type": "code",
   "execution_count": 501,
   "metadata": {},
   "outputs": [
    {
     "name": "stdout",
     "output_type": "stream",
     "text": [
      "[i] Timer started at05/12/20 - 10:55 AM\n",
      "[i] Timer ended at 05/12/20 - 10:55 AM\n",
      "- Total time = 0:00:00.219410\n"
     ]
    }
   ],
   "source": [
    "# Create a tree with the gridsearch's best params\n",
    "\n",
    "timer = Timer()\n",
    "timer.start()\n",
    "\n",
    "best_tree.fit(X_train,y_train)\n",
    "\n",
    "timer.stop()"
   ]
  },
  {
   "cell_type": "markdown",
   "metadata": {},
   "source": [
    "# RF Grid Search Results"
   ]
  },
  {
   "cell_type": "code",
   "execution_count": 502,
   "metadata": {},
   "outputs": [
    {
     "name": "stdout",
     "output_type": "stream",
     "text": [
      "Train score= 0.67625\n",
      "Test score= 0.6180758017492711\n",
      "              precision    recall  f1-score   support\n",
      "\n",
      "           0       0.60      0.72      0.65       171\n",
      "           1       0.65      0.52      0.58       172\n",
      "\n",
      "    accuracy                           0.62       343\n",
      "   macro avg       0.62      0.62      0.61       343\n",
      "weighted avg       0.62      0.62      0.61       343\n",
      "\n"
     ]
    },
    {
     "data": {
      "image/png": "[encoded data removed]",
      "text/plain": [
       "<Figure size 720x288 with 3 Axes>"
      ]
     },
     "metadata": {},
     "output_type": "display_data"
    },
    {
     "name": "stdout",
     "output_type": "stream",
     "text": [
      "Impressions             0.233040\n",
      "Spent                   0.176581\n",
      "Clicks                  0.168309\n",
      "xyz_campaign_id_1178    0.088645\n",
      "fb_counts               0.056416\n",
      "Name: Importance, dtype: float64\n"
     ]
    }
   ],
   "source": [
    "y_hat_test = best_tree.predict(X_test)\n",
    "\n",
    "evaluate_model(best_tree, y_train, y_test, y_hat_test,X_train, X_test)"
   ]
  },
  {
   "cell_type": "markdown",
   "metadata": {},
   "source": [
    "## Similiar results to D. Tree Grid Search; slight over train of training data. .58 recall."
   ]
  },
  {
   "cell_type": "markdown",
   "metadata": {},
   "source": [
    "# XGBOOST Model"
   ]
  },
  {
   "cell_type": "code",
   "execution_count": 503,
   "metadata": {},
   "outputs": [],
   "source": [
    "xgb_rf = XGBRFClassifier()"
   ]
  },
  {
   "cell_type": "code",
   "execution_count": 504,
   "metadata": {
    "scrolled": false
   },
   "outputs": [
    {
     "name": "stdout",
     "output_type": "stream",
     "text": [
      "[i] Timer started at05/12/20 - 10:56 AM\n",
      "[i] Timer ended at 05/12/20 - 10:56 AM\n",
      "- Total time = 0:00:00.149420\n"
     ]
    }
   ],
   "source": [
    "y_hat_test, clf = run_model(xgb_rf, X_train, y_train, X_test)"
   ]
  },
  {
   "cell_type": "markdown",
   "metadata": {},
   "source": [
    "# XGBOOST Results"
   ]
  },
  {
   "cell_type": "code",
   "execution_count": 505,
   "metadata": {},
   "outputs": [
    {
     "name": "stdout",
     "output_type": "stream",
     "text": [
      "Train score= 0.685\n",
      "Test score= 0.597667638483965\n",
      "              precision    recall  f1-score   support\n",
      "\n",
      "           0       0.59      0.66      0.62       171\n",
      "           1       0.61      0.53      0.57       172\n",
      "\n",
      "    accuracy                           0.60       343\n",
      "   macro avg       0.60      0.60      0.60       343\n",
      "weighted avg       0.60      0.60      0.60       343\n",
      "\n"
     ]
    },
    {
     "data": {
      "image/png": "[encoded data removed]",
      "text/plain": [
       "<Figure size 720x288 with 3 Axes>"
      ]
     },
     "metadata": {},
     "output_type": "display_data"
    },
    {
     "name": "stdout",
     "output_type": "stream",
     "text": [
      "xyz_campaign_id_1178    0.217722\n",
      "Impressions             0.166799\n",
      "xyz_campaign_id_936     0.098505\n",
      "Spent                   0.090730\n",
      "gender_M                0.048028\n",
      "Name: Importance, dtype: float32\n"
     ]
    }
   ],
   "source": [
    "evaluate_model(clf,y_train, y_test,y_hat_test,X_train, X_test)"
   ]
  },
  {
   "cell_type": "markdown",
   "metadata": {},
   "source": [
    "## Average results; very low true positive results."
   ]
  },
  {
   "cell_type": "markdown",
   "metadata": {},
   "source": [
    "# XGBOOST RF Model"
   ]
  },
  {
   "cell_type": "code",
   "execution_count": 506,
   "metadata": {},
   "outputs": [],
   "source": [
    "xgbrf_grid = {'colsample_bynode': 0.8, 'learning_rate': .1,\n",
    "              'max_depth': 5, 'num_parallel_tree': 100, \n",
    "              'objective': 'binary:logistic', 'subsample': 0.8}\n",
    "\n",
    "xrf_clf = XGBRFClassifier(**xgbrf_grid)"
   ]
  },
  {
   "cell_type": "code",
   "execution_count": 507,
   "metadata": {},
   "outputs": [
    {
     "name": "stdout",
     "output_type": "stream",
     "text": [
      "[i] Timer started at05/12/20 - 10:56 AM\n",
      "[i] Timer ended at 05/12/20 - 10:56 AM\n",
      "- Total time = 0:00:00.233776\n"
     ]
    },
    {
     "data": {
      "text/plain": [
       "{'criterion': 'entropy',\n",
       " 'max_depth': 3,\n",
       " 'max_features': 5,\n",
       " 'min_samples_leaf': 1}"
      ]
     },
     "execution_count": 507,
     "metadata": {},
     "output_type": "execute_result"
    }
   ],
   "source": [
    "timer = Timer()\n",
    "timer.start()\n",
    "\n",
    "xrf_clf = XGBRFClassifier(**xgbrf_grid)\n",
    "xrf_clf.fit(X_train,y_train)\n",
    "\n",
    "timer.stop()\n",
    "grid_clf.best_params_"
   ]
  },
  {
   "cell_type": "markdown",
   "metadata": {},
   "source": [
    "# XGBOOST RF Results"
   ]
  },
  {
   "cell_type": "code",
   "execution_count": 508,
   "metadata": {},
   "outputs": [
    {
     "name": "stdout",
     "output_type": "stream",
     "text": [
      "Train score= 0.71125\n",
      "Test score= 0.6064139941690962\n",
      "              precision    recall  f1-score   support\n",
      "\n",
      "           0       0.59      0.70      0.64       171\n",
      "           1       0.63      0.52      0.57       172\n",
      "\n",
      "    accuracy                           0.61       343\n",
      "   macro avg       0.61      0.61      0.60       343\n",
      "weighted avg       0.61      0.61      0.60       343\n",
      "\n"
     ]
    },
    {
     "data": {
      "image/png": "[encoded data removed]",
      "text/plain": [
       "<Figure size 720x288 with 3 Axes>"
      ]
     },
     "metadata": {},
     "output_type": "display_data"
    },
    {
     "name": "stdout",
     "output_type": "stream",
     "text": [
      "Impressions             0.120460\n",
      "xyz_campaign_id_1178    0.091145\n",
      "Spent                   0.068425\n",
      "interest_65             0.061968\n",
      "xyz_campaign_id_936     0.055110\n",
      "Name: Importance, dtype: float32\n"
     ]
    }
   ],
   "source": [
    "y_hat_test = xrf_clf.predict(X_test)\n",
    "\n",
    "evaluate_model(xrf_clf, y_train, y_test,y_hat_test,X_train, X_test)"
   ]
  },
  {
   "cell_type": "markdown",
   "metadata": {},
   "source": [
    "## Overtrained training set and very low true positive results."
   ]
  },
  {
   "cell_type": "markdown",
   "metadata": {},
   "source": [
    "# Grid Search CV Model"
   ]
  },
  {
   "cell_type": "code",
   "execution_count": 530,
   "metadata": {},
   "outputs": [],
   "source": [
    "tree = DecisionTreeClassifier()\n",
    "\n",
    "\n",
    "param_grid = {'criterion':['entropy'],\n",
    "             'max_depth':[3],\n",
    "             'max_features':['sqrt'],\n",
    "              'min_samples_leaf': [3]}\n",
    "\n",
    "grid_clf = GridSearchCV(tree,param_grid)"
   ]
  },
  {
   "cell_type": "code",
   "execution_count": 531,
   "metadata": {},
   "outputs": [
    {
     "name": "stdout",
     "output_type": "stream",
     "text": [
      "[i] Timer started at05/12/20 - 11:21 AM\n",
      "[i] Timer ended at 05/12/20 - 11:21 AM\n",
      "- Total time = 0:00:00.044177\n"
     ]
    },
    {
     "data": {
      "text/plain": [
       "{'criterion': 'entropy',\n",
       " 'max_depth': 3,\n",
       " 'max_features': 'sqrt',\n",
       " 'min_samples_leaf': 3}"
      ]
     },
     "execution_count": 531,
     "metadata": {},
     "output_type": "execute_result"
    }
   ],
   "source": [
    "timer = Timer()\n",
    "timer.start()\n",
    "\n",
    "# Fit Grid Search to Decission Tree.\n",
    "\n",
    "grid_clf.fit(X_train,y_train)\n",
    "\n",
    "timer.stop()\n",
    "grid_clf.best_params_"
   ]
  },
  {
   "cell_type": "code",
   "execution_count": 532,
   "metadata": {},
   "outputs": [
    {
     "data": {
      "text/plain": [
       "DecisionTreeClassifier(ccp_alpha=0.0, class_weight=None, criterion='entropy',\n",
       "                       max_depth=3, max_features='sqrt', max_leaf_nodes=None,\n",
       "                       min_impurity_decrease=0.0, min_impurity_split=None,\n",
       "                       min_samples_leaf=3, min_samples_split=2,\n",
       "                       min_weight_fraction_leaf=0.0, presort='deprecated',\n",
       "                       random_state=None, splitter='best')"
      ]
     },
     "execution_count": 532,
     "metadata": {},
     "output_type": "execute_result"
    }
   ],
   "source": [
    "# Create a tree with the gridsearch's best params\n",
    "\n",
    "best_tree = DecisionTreeClassifier(**grid_clf.best_params_)\n",
    "best_tree.fit(X_train,y_train)"
   ]
  },
  {
   "cell_type": "markdown",
   "metadata": {},
   "source": [
    "# Grid Search CV Results"
   ]
  },
  {
   "cell_type": "code",
   "execution_count": 533,
   "metadata": {},
   "outputs": [
    {
     "name": "stdout",
     "output_type": "stream",
     "text": [
      "Train score= 0.62375\n",
      "Test score= 0.597667638483965\n",
      "              precision    recall  f1-score   support\n",
      "\n",
      "           0       0.61      0.52      0.56       171\n",
      "           1       0.59      0.67      0.63       172\n",
      "\n",
      "    accuracy                           0.60       343\n",
      "   macro avg       0.60      0.60      0.60       343\n",
      "weighted avg       0.60      0.60      0.60       343\n",
      "\n"
     ]
    },
    {
     "data": {
      "image/png": "[encoded data removed]",
      "text/plain": [
       "<Figure size 720x288 with 3 Axes>"
      ]
     },
     "metadata": {},
     "output_type": "display_data"
    },
    {
     "name": "stdout",
     "output_type": "stream",
     "text": [
      "Spent                  0.802933\n",
      "xyz_campaign_id_936    0.164539\n",
      "Clicks                 0.018951\n",
      "interest_113           0.013577\n",
      "interest_114           0.000000\n",
      "Name: Importance, dtype: float64\n"
     ]
    }
   ],
   "source": [
    "y_hat_test = best_tree.predict(X_test)\n",
    "\n",
    "evaluate_model(best_tree, y_train, y_test,y_hat_test,X_train, X_test)"
   ]
  },
  {
   "cell_type": "markdown",
   "metadata": {},
   "source": [
    "# Final Results"
   ]
  },
  {
   "cell_type": "markdown",
   "metadata": {},
   "source": [
    "# For the business problem of identifying which variables contribute to classifying if customers make a purchase; Grid Search CV on a Decision Tree model had the best results of all the models tried. Specifically the variables criterion: entropy; max_depth: 3; max_features: sqrt; min_samples_leaf: 3.\n",
    "\n",
    "\n",
    "# The training and test score are both mid to low .60's indicating that the model did not over or under fit the training data and had a siliar result on the test data. \n",
    "\n",
    "# The recall score of .67 indicates a 17% improvement of identifying true positives from random chance. The top three predictors are Impressions,  xyz_campaign_id_936, and interest_110."
   ]
  },
  {
   "cell_type": "code",
   "execution_count": 534,
   "metadata": {},
   "outputs": [
    {
     "data": {
      "image/png": "[encoded data removed]",
      "text/plain": [
       "<Figure size 720x288 with 1 Axes>"
      ]
     },
     "metadata": {},
     "output_type": "display_data"
    }
   ],
   "source": [
    "fig, ax = plt.subplots(figsize=(10,4))\n",
    "df_import = pd.Series(best_tree.feature_importances_, index = X_train.columns,name='Importance')\n",
    "(df_import.sort_values(ascending=True).tail()).plot(kind = 'barh')\n",
    "xaxis = 'Importance'\n",
    "ax.set(ylabel='Predictors',xlabel='Importance',title='Importance Plot');"
   ]
  },
  {
   "cell_type": "markdown",
   "metadata": {},
   "source": [
    "# Recommendations"
   ]
  },
  {
   "cell_type": "markdown",
   "metadata": {},
   "source": [
    "I recommend to invest a large amount into ads for the best return on investment. Specifically replicate what is done in ad id number 936. For an extra boost, focus on interest number 113."
   ]
  },
  {
   "cell_type": "markdown",
   "metadata": {},
   "source": [
    "# Future Work"
   ]
  },
  {
   "cell_type": "markdown",
   "metadata": {},
   "source": [
    "In the future, I would try to work with a larger data set including both rows of customer behavior and columns of predictors. Additionally, I would like to look at trends across seasonal time periods. Perhaps different marketing strategies will be more affective in different time periods. Lastly, I would research into what exactly the interest codes translate to."
   ]
  },
  {
   "cell_type": "code",
   "execution_count": null,
   "metadata": {},
   "outputs": [],
   "source": []
  }
 ],
 "metadata": {
  "kernelspec": {
   "display_name": "Python 3",
   "language": "python",
   "name": "python3"
  },
  "language_info": {
   "codemirror_mode": {
    "name": "ipython",
    "version": 3
   },
   "file_extension": ".py",
   "mimetype": "text/x-python",
   "name": "python",
   "nbconvert_exporter": "python",
   "pygments_lexer": "ipython3",
   "version": "3.6.9"
  },
  "toc": {
   "base_numbering": 1,
   "nav_menu": {},
   "number_sections": false,
   "sideBar": true,
   "skip_h1_title": false,
   "title_cell": "Table of Contents",
   "title_sidebar": "Contents",
   "toc_cell": false,
   "toc_position": {
    "height": "calc(100% - 180px)",
    "left": "10px",
    "top": "150px",
    "width": "248.391px"
   },
   "toc_section_display": true,
   "toc_window_display": true
  }
 },
 "nbformat": 4,
 "nbformat_minor": 2
}
